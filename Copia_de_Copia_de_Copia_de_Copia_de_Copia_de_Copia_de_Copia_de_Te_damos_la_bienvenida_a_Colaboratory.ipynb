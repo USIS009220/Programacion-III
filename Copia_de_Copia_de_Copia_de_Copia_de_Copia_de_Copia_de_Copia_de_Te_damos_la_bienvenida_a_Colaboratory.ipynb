{
  "nbformat": 4,
  "nbformat_minor": 0,
  "metadata": {
    "colab": {
      "name": "Copia de Copia de Copia de Copia de Copia de Copia de Copia de Te damos la bienvenida a Colaboratory",
      "provenance": [],
      "collapsed_sections": [],
      "include_colab_link": true
    },
    "kernelspec": {
      "display_name": "Python 3",
      "name": "python3"
    },
    "widgets": {
      "application/vnd.jupyter.widget-state+json": {
        "fa74c856c61e49f99137cd8840509ad3": {
          "model_module": "@jupyter-widgets/controls",
          "model_name": "HBoxModel",
          "model_module_version": "1.5.0",
          "state": {
            "_view_name": "HBoxView",
            "_dom_classes": [],
            "_model_name": "HBoxModel",
            "_view_module": "@jupyter-widgets/controls",
            "_model_module_version": "1.5.0",
            "_view_count": null,
            "_view_module_version": "1.5.0",
            "box_style": "",
            "layout": "IPY_MODEL_ad794e72e8104b13b9c747e560f13c87",
            "_model_module": "@jupyter-widgets/controls",
            "children": [
              "IPY_MODEL_bac9884d3db04a8dbc137507f71e04b8",
              "IPY_MODEL_7efdbb6c2ed04b65b290d810a4f3f532",
              "IPY_MODEL_927fc17f72a249ce97dec4f2ee528bfa"
            ]
          }
        },
        "ad794e72e8104b13b9c747e560f13c87": {
          "model_module": "@jupyter-widgets/base",
          "model_name": "LayoutModel",
          "model_module_version": "1.2.0",
          "state": {
            "_view_name": "LayoutView",
            "grid_template_rows": null,
            "right": null,
            "justify_content": null,
            "_view_module": "@jupyter-widgets/base",
            "overflow": null,
            "_model_module_version": "1.2.0",
            "_view_count": null,
            "flex_flow": null,
            "width": null,
            "min_width": null,
            "border": null,
            "align_items": null,
            "bottom": null,
            "_model_module": "@jupyter-widgets/base",
            "top": null,
            "grid_column": null,
            "overflow_y": null,
            "overflow_x": null,
            "grid_auto_flow": null,
            "grid_area": null,
            "grid_template_columns": null,
            "flex": null,
            "_model_name": "LayoutModel",
            "justify_items": null,
            "grid_row": null,
            "max_height": null,
            "align_content": null,
            "visibility": null,
            "align_self": null,
            "height": null,
            "min_height": null,
            "padding": null,
            "grid_auto_rows": null,
            "grid_gap": null,
            "max_width": null,
            "order": null,
            "_view_module_version": "1.2.0",
            "grid_template_areas": null,
            "object_position": null,
            "object_fit": null,
            "grid_auto_columns": null,
            "margin": null,
            "display": null,
            "left": null
          }
        },
        "bac9884d3db04a8dbc137507f71e04b8": {
          "model_module": "@jupyter-widgets/controls",
          "model_name": "HTMLModel",
          "model_module_version": "1.5.0",
          "state": {
            "_view_name": "HTMLView",
            "style": "IPY_MODEL_39e1685ff96944aba3360ceec77c3ece",
            "_dom_classes": [],
            "description": "",
            "_model_name": "HTMLModel",
            "placeholder": "​",
            "_view_module": "@jupyter-widgets/controls",
            "_model_module_version": "1.5.0",
            "value": "Dl Completed...: 100%",
            "_view_count": null,
            "_view_module_version": "1.5.0",
            "description_tooltip": null,
            "_model_module": "@jupyter-widgets/controls",
            "layout": "IPY_MODEL_0f8e417e41c24f9884f082cdffbe82a2"
          }
        },
        "7efdbb6c2ed04b65b290d810a4f3f532": {
          "model_module": "@jupyter-widgets/controls",
          "model_name": "FloatProgressModel",
          "model_module_version": "1.5.0",
          "state": {
            "_view_name": "ProgressView",
            "style": "IPY_MODEL_3da80c210bec4d78ab348330ebf314ea",
            "_dom_classes": [],
            "description": "",
            "_model_name": "FloatProgressModel",
            "bar_style": "success",
            "max": 4,
            "_view_module": "@jupyter-widgets/controls",
            "_model_module_version": "1.5.0",
            "value": 4,
            "_view_count": null,
            "_view_module_version": "1.5.0",
            "orientation": "horizontal",
            "min": 0,
            "description_tooltip": null,
            "_model_module": "@jupyter-widgets/controls",
            "layout": "IPY_MODEL_798c537749b84c81be31847a3482c680"
          }
        },
        "927fc17f72a249ce97dec4f2ee528bfa": {
          "model_module": "@jupyter-widgets/controls",
          "model_name": "HTMLModel",
          "model_module_version": "1.5.0",
          "state": {
            "_view_name": "HTMLView",
            "style": "IPY_MODEL_ccade4fbaff34e6cafa413a20529d348",
            "_dom_classes": [],
            "description": "",
            "_model_name": "HTMLModel",
            "placeholder": "​",
            "_view_module": "@jupyter-widgets/controls",
            "_model_module_version": "1.5.0",
            "value": " 4/4 [00:01&lt;00:00,  2.51 file/s]",
            "_view_count": null,
            "_view_module_version": "1.5.0",
            "description_tooltip": null,
            "_model_module": "@jupyter-widgets/controls",
            "layout": "IPY_MODEL_d71472e8bf6349a282413b4dbdcdcadb"
          }
        },
        "39e1685ff96944aba3360ceec77c3ece": {
          "model_module": "@jupyter-widgets/controls",
          "model_name": "DescriptionStyleModel",
          "model_module_version": "1.5.0",
          "state": {
            "_view_name": "StyleView",
            "_model_name": "DescriptionStyleModel",
            "description_width": "",
            "_view_module": "@jupyter-widgets/base",
            "_model_module_version": "1.5.0",
            "_view_count": null,
            "_view_module_version": "1.2.0",
            "_model_module": "@jupyter-widgets/controls"
          }
        },
        "0f8e417e41c24f9884f082cdffbe82a2": {
          "model_module": "@jupyter-widgets/base",
          "model_name": "LayoutModel",
          "model_module_version": "1.2.0",
          "state": {
            "_view_name": "LayoutView",
            "grid_template_rows": null,
            "right": null,
            "justify_content": null,
            "_view_module": "@jupyter-widgets/base",
            "overflow": null,
            "_model_module_version": "1.2.0",
            "_view_count": null,
            "flex_flow": null,
            "width": null,
            "min_width": null,
            "border": null,
            "align_items": null,
            "bottom": null,
            "_model_module": "@jupyter-widgets/base",
            "top": null,
            "grid_column": null,
            "overflow_y": null,
            "overflow_x": null,
            "grid_auto_flow": null,
            "grid_area": null,
            "grid_template_columns": null,
            "flex": null,
            "_model_name": "LayoutModel",
            "justify_items": null,
            "grid_row": null,
            "max_height": null,
            "align_content": null,
            "visibility": null,
            "align_self": null,
            "height": null,
            "min_height": null,
            "padding": null,
            "grid_auto_rows": null,
            "grid_gap": null,
            "max_width": null,
            "order": null,
            "_view_module_version": "1.2.0",
            "grid_template_areas": null,
            "object_position": null,
            "object_fit": null,
            "grid_auto_columns": null,
            "margin": null,
            "display": null,
            "left": null
          }
        },
        "3da80c210bec4d78ab348330ebf314ea": {
          "model_module": "@jupyter-widgets/controls",
          "model_name": "ProgressStyleModel",
          "model_module_version": "1.5.0",
          "state": {
            "_view_name": "StyleView",
            "_model_name": "ProgressStyleModel",
            "description_width": "",
            "_view_module": "@jupyter-widgets/base",
            "_model_module_version": "1.5.0",
            "_view_count": null,
            "_view_module_version": "1.2.0",
            "bar_color": null,
            "_model_module": "@jupyter-widgets/controls"
          }
        },
        "798c537749b84c81be31847a3482c680": {
          "model_module": "@jupyter-widgets/base",
          "model_name": "LayoutModel",
          "model_module_version": "1.2.0",
          "state": {
            "_view_name": "LayoutView",
            "grid_template_rows": null,
            "right": null,
            "justify_content": null,
            "_view_module": "@jupyter-widgets/base",
            "overflow": null,
            "_model_module_version": "1.2.0",
            "_view_count": null,
            "flex_flow": null,
            "width": null,
            "min_width": null,
            "border": null,
            "align_items": null,
            "bottom": null,
            "_model_module": "@jupyter-widgets/base",
            "top": null,
            "grid_column": null,
            "overflow_y": null,
            "overflow_x": null,
            "grid_auto_flow": null,
            "grid_area": null,
            "grid_template_columns": null,
            "flex": null,
            "_model_name": "LayoutModel",
            "justify_items": null,
            "grid_row": null,
            "max_height": null,
            "align_content": null,
            "visibility": null,
            "align_self": null,
            "height": null,
            "min_height": null,
            "padding": null,
            "grid_auto_rows": null,
            "grid_gap": null,
            "max_width": null,
            "order": null,
            "_view_module_version": "1.2.0",
            "grid_template_areas": null,
            "object_position": null,
            "object_fit": null,
            "grid_auto_columns": null,
            "margin": null,
            "display": null,
            "left": null
          }
        },
        "ccade4fbaff34e6cafa413a20529d348": {
          "model_module": "@jupyter-widgets/controls",
          "model_name": "DescriptionStyleModel",
          "model_module_version": "1.5.0",
          "state": {
            "_view_name": "StyleView",
            "_model_name": "DescriptionStyleModel",
            "description_width": "",
            "_view_module": "@jupyter-widgets/base",
            "_model_module_version": "1.5.0",
            "_view_count": null,
            "_view_module_version": "1.2.0",
            "_model_module": "@jupyter-widgets/controls"
          }
        },
        "d71472e8bf6349a282413b4dbdcdcadb": {
          "model_module": "@jupyter-widgets/base",
          "model_name": "LayoutModel",
          "model_module_version": "1.2.0",
          "state": {
            "_view_name": "LayoutView",
            "grid_template_rows": null,
            "right": null,
            "justify_content": null,
            "_view_module": "@jupyter-widgets/base",
            "overflow": null,
            "_model_module_version": "1.2.0",
            "_view_count": null,
            "flex_flow": null,
            "width": null,
            "min_width": null,
            "border": null,
            "align_items": null,
            "bottom": null,
            "_model_module": "@jupyter-widgets/base",
            "top": null,
            "grid_column": null,
            "overflow_y": null,
            "overflow_x": null,
            "grid_auto_flow": null,
            "grid_area": null,
            "grid_template_columns": null,
            "flex": null,
            "_model_name": "LayoutModel",
            "justify_items": null,
            "grid_row": null,
            "max_height": null,
            "align_content": null,
            "visibility": null,
            "align_self": null,
            "height": null,
            "min_height": null,
            "padding": null,
            "grid_auto_rows": null,
            "grid_gap": null,
            "max_width": null,
            "order": null,
            "_view_module_version": "1.2.0",
            "grid_template_areas": null,
            "object_position": null,
            "object_fit": null,
            "grid_auto_columns": null,
            "margin": null,
            "display": null,
            "left": null
          }
        },
        "3b4243945bc94f73a5dc80419f6239ec": {
          "model_module": "@jupyter-widgets/controls",
          "model_name": "HBoxModel",
          "model_module_version": "1.5.0",
          "state": {
            "_view_name": "HBoxView",
            "_dom_classes": [],
            "_model_name": "HBoxModel",
            "_view_module": "@jupyter-widgets/controls",
            "_model_module_version": "1.5.0",
            "_view_count": null,
            "_view_module_version": "1.5.0",
            "box_style": "",
            "layout": "IPY_MODEL_c22942594a464c1893ffb90aa3ed2ca4",
            "_model_module": "@jupyter-widgets/controls",
            "children": [
              "IPY_MODEL_cf47b8cef1a14a17979230f46757eb62",
              "IPY_MODEL_39ad511f5a6647efaa966516052cb283",
              "IPY_MODEL_0254ca9f9a5a42ccb0c5008aede5fd65"
            ]
          }
        },
        "c22942594a464c1893ffb90aa3ed2ca4": {
          "model_module": "@jupyter-widgets/base",
          "model_name": "LayoutModel",
          "model_module_version": "1.2.0",
          "state": {
            "_view_name": "LayoutView",
            "grid_template_rows": null,
            "right": null,
            "justify_content": null,
            "_view_module": "@jupyter-widgets/base",
            "overflow": null,
            "_model_module_version": "1.2.0",
            "_view_count": null,
            "flex_flow": null,
            "width": null,
            "min_width": null,
            "border": null,
            "align_items": null,
            "bottom": null,
            "_model_module": "@jupyter-widgets/base",
            "top": null,
            "grid_column": null,
            "overflow_y": null,
            "overflow_x": null,
            "grid_auto_flow": null,
            "grid_area": null,
            "grid_template_columns": null,
            "flex": null,
            "_model_name": "LayoutModel",
            "justify_items": null,
            "grid_row": null,
            "max_height": null,
            "align_content": null,
            "visibility": null,
            "align_self": null,
            "height": null,
            "min_height": null,
            "padding": null,
            "grid_auto_rows": null,
            "grid_gap": null,
            "max_width": null,
            "order": null,
            "_view_module_version": "1.2.0",
            "grid_template_areas": null,
            "object_position": null,
            "object_fit": null,
            "grid_auto_columns": null,
            "margin": null,
            "display": null,
            "left": null
          }
        },
        "cf47b8cef1a14a17979230f46757eb62": {
          "model_module": "@jupyter-widgets/controls",
          "model_name": "HTMLModel",
          "model_module_version": "1.5.0",
          "state": {
            "_view_name": "HTMLView",
            "style": "IPY_MODEL_cdcd24d2684845d78704708738f5f253",
            "_dom_classes": [],
            "description": "",
            "_model_name": "HTMLModel",
            "placeholder": "​",
            "_view_module": "@jupyter-widgets/controls",
            "_model_module_version": "1.5.0",
            "value": "Dl Completed...: 100%",
            "_view_count": null,
            "_view_module_version": "1.5.0",
            "description_tooltip": null,
            "_model_module": "@jupyter-widgets/controls",
            "layout": "IPY_MODEL_4cf1c3f8cc844e1b851ef1bc69b54776"
          }
        },
        "39ad511f5a6647efaa966516052cb283": {
          "model_module": "@jupyter-widgets/controls",
          "model_name": "FloatProgressModel",
          "model_module_version": "1.5.0",
          "state": {
            "_view_name": "ProgressView",
            "style": "IPY_MODEL_efd5d409d3ff43eb87a627d2e9bb1e66",
            "_dom_classes": [],
            "description": "",
            "_model_name": "FloatProgressModel",
            "bar_style": "success",
            "max": 1,
            "_view_module": "@jupyter-widgets/controls",
            "_model_module_version": "1.5.0",
            "value": 1,
            "_view_count": null,
            "_view_module_version": "1.5.0",
            "orientation": "horizontal",
            "min": 0,
            "description_tooltip": null,
            "_model_module": "@jupyter-widgets/controls",
            "layout": "IPY_MODEL_deaef28a3b544403ad56fcb4cd7a1fe9"
          }
        },
        "0254ca9f9a5a42ccb0c5008aede5fd65": {
          "model_module": "@jupyter-widgets/controls",
          "model_name": "HTMLModel",
          "model_module_version": "1.5.0",
          "state": {
            "_view_name": "HTMLView",
            "style": "IPY_MODEL_e4132229e3b54c3aa740b6122158e904",
            "_dom_classes": [],
            "description": "",
            "_model_name": "HTMLModel",
            "placeholder": "​",
            "_view_module": "@jupyter-widgets/controls",
            "_model_module_version": "1.5.0",
            "value": " 4/4 [00:03&lt;00:00,  1.17 url/s]",
            "_view_count": null,
            "_view_module_version": "1.5.0",
            "description_tooltip": null,
            "_model_module": "@jupyter-widgets/controls",
            "layout": "IPY_MODEL_61169e982a6b4436becdfecb7f7ffbc7"
          }
        },
        "cdcd24d2684845d78704708738f5f253": {
          "model_module": "@jupyter-widgets/controls",
          "model_name": "DescriptionStyleModel",
          "model_module_version": "1.5.0",
          "state": {
            "_view_name": "StyleView",
            "_model_name": "DescriptionStyleModel",
            "description_width": "",
            "_view_module": "@jupyter-widgets/base",
            "_model_module_version": "1.5.0",
            "_view_count": null,
            "_view_module_version": "1.2.0",
            "_model_module": "@jupyter-widgets/controls"
          }
        },
        "4cf1c3f8cc844e1b851ef1bc69b54776": {
          "model_module": "@jupyter-widgets/base",
          "model_name": "LayoutModel",
          "model_module_version": "1.2.0",
          "state": {
            "_view_name": "LayoutView",
            "grid_template_rows": null,
            "right": null,
            "justify_content": null,
            "_view_module": "@jupyter-widgets/base",
            "overflow": null,
            "_model_module_version": "1.2.0",
            "_view_count": null,
            "flex_flow": null,
            "width": null,
            "min_width": null,
            "border": null,
            "align_items": null,
            "bottom": null,
            "_model_module": "@jupyter-widgets/base",
            "top": null,
            "grid_column": null,
            "overflow_y": null,
            "overflow_x": null,
            "grid_auto_flow": null,
            "grid_area": null,
            "grid_template_columns": null,
            "flex": null,
            "_model_name": "LayoutModel",
            "justify_items": null,
            "grid_row": null,
            "max_height": null,
            "align_content": null,
            "visibility": null,
            "align_self": null,
            "height": null,
            "min_height": null,
            "padding": null,
            "grid_auto_rows": null,
            "grid_gap": null,
            "max_width": null,
            "order": null,
            "_view_module_version": "1.2.0",
            "grid_template_areas": null,
            "object_position": null,
            "object_fit": null,
            "grid_auto_columns": null,
            "margin": null,
            "display": null,
            "left": null
          }
        },
        "efd5d409d3ff43eb87a627d2e9bb1e66": {
          "model_module": "@jupyter-widgets/controls",
          "model_name": "ProgressStyleModel",
          "model_module_version": "1.5.0",
          "state": {
            "_view_name": "StyleView",
            "_model_name": "ProgressStyleModel",
            "description_width": "",
            "_view_module": "@jupyter-widgets/base",
            "_model_module_version": "1.5.0",
            "_view_count": null,
            "_view_module_version": "1.2.0",
            "bar_color": null,
            "_model_module": "@jupyter-widgets/controls"
          }
        },
        "deaef28a3b544403ad56fcb4cd7a1fe9": {
          "model_module": "@jupyter-widgets/base",
          "model_name": "LayoutModel",
          "model_module_version": "1.2.0",
          "state": {
            "_view_name": "LayoutView",
            "grid_template_rows": null,
            "right": null,
            "justify_content": null,
            "_view_module": "@jupyter-widgets/base",
            "overflow": null,
            "_model_module_version": "1.2.0",
            "_view_count": null,
            "flex_flow": null,
            "width": "20px",
            "min_width": null,
            "border": null,
            "align_items": null,
            "bottom": null,
            "_model_module": "@jupyter-widgets/base",
            "top": null,
            "grid_column": null,
            "overflow_y": null,
            "overflow_x": null,
            "grid_auto_flow": null,
            "grid_area": null,
            "grid_template_columns": null,
            "flex": null,
            "_model_name": "LayoutModel",
            "justify_items": null,
            "grid_row": null,
            "max_height": null,
            "align_content": null,
            "visibility": null,
            "align_self": null,
            "height": null,
            "min_height": null,
            "padding": null,
            "grid_auto_rows": null,
            "grid_gap": null,
            "max_width": null,
            "order": null,
            "_view_module_version": "1.2.0",
            "grid_template_areas": null,
            "object_position": null,
            "object_fit": null,
            "grid_auto_columns": null,
            "margin": null,
            "display": null,
            "left": null
          }
        },
        "e4132229e3b54c3aa740b6122158e904": {
          "model_module": "@jupyter-widgets/controls",
          "model_name": "DescriptionStyleModel",
          "model_module_version": "1.5.0",
          "state": {
            "_view_name": "StyleView",
            "_model_name": "DescriptionStyleModel",
            "description_width": "",
            "_view_module": "@jupyter-widgets/base",
            "_model_module_version": "1.5.0",
            "_view_count": null,
            "_view_module_version": "1.2.0",
            "_model_module": "@jupyter-widgets/controls"
          }
        },
        "61169e982a6b4436becdfecb7f7ffbc7": {
          "model_module": "@jupyter-widgets/base",
          "model_name": "LayoutModel",
          "model_module_version": "1.2.0",
          "state": {
            "_view_name": "LayoutView",
            "grid_template_rows": null,
            "right": null,
            "justify_content": null,
            "_view_module": "@jupyter-widgets/base",
            "overflow": null,
            "_model_module_version": "1.2.0",
            "_view_count": null,
            "flex_flow": null,
            "width": null,
            "min_width": null,
            "border": null,
            "align_items": null,
            "bottom": null,
            "_model_module": "@jupyter-widgets/base",
            "top": null,
            "grid_column": null,
            "overflow_y": null,
            "overflow_x": null,
            "grid_auto_flow": null,
            "grid_area": null,
            "grid_template_columns": null,
            "flex": null,
            "_model_name": "LayoutModel",
            "justify_items": null,
            "grid_row": null,
            "max_height": null,
            "align_content": null,
            "visibility": null,
            "align_self": null,
            "height": null,
            "min_height": null,
            "padding": null,
            "grid_auto_rows": null,
            "grid_gap": null,
            "max_width": null,
            "order": null,
            "_view_module_version": "1.2.0",
            "grid_template_areas": null,
            "object_position": null,
            "object_fit": null,
            "grid_auto_columns": null,
            "margin": null,
            "display": null,
            "left": null
          }
        },
        "ecd61d535df54e22910ac2a21b114550": {
          "model_module": "@jupyter-widgets/controls",
          "model_name": "HBoxModel",
          "model_module_version": "1.5.0",
          "state": {
            "_view_name": "HBoxView",
            "_dom_classes": [],
            "_model_name": "HBoxModel",
            "_view_module": "@jupyter-widgets/controls",
            "_model_module_version": "1.5.0",
            "_view_count": null,
            "_view_module_version": "1.5.0",
            "box_style": "",
            "layout": "IPY_MODEL_29bd4005c15e4f5c9646fc155904745a",
            "_model_module": "@jupyter-widgets/controls",
            "children": [
              "IPY_MODEL_9c3ce9cd08124af1a7f47331315c3e43",
              "IPY_MODEL_a7efcba64fce42d980b38f4b08aaa42c",
              "IPY_MODEL_5d805676627a4f078295b6ff6b7fc82d"
            ]
          }
        },
        "29bd4005c15e4f5c9646fc155904745a": {
          "model_module": "@jupyter-widgets/base",
          "model_name": "LayoutModel",
          "model_module_version": "1.2.0",
          "state": {
            "_view_name": "LayoutView",
            "grid_template_rows": null,
            "right": null,
            "justify_content": null,
            "_view_module": "@jupyter-widgets/base",
            "overflow": null,
            "_model_module_version": "1.2.0",
            "_view_count": null,
            "flex_flow": null,
            "width": null,
            "min_width": null,
            "border": null,
            "align_items": null,
            "bottom": null,
            "_model_module": "@jupyter-widgets/base",
            "top": null,
            "grid_column": null,
            "overflow_y": null,
            "overflow_x": null,
            "grid_auto_flow": null,
            "grid_area": null,
            "grid_template_columns": null,
            "flex": null,
            "_model_name": "LayoutModel",
            "justify_items": null,
            "grid_row": null,
            "max_height": null,
            "align_content": null,
            "visibility": null,
            "align_self": null,
            "height": null,
            "min_height": null,
            "padding": null,
            "grid_auto_rows": null,
            "grid_gap": null,
            "max_width": null,
            "order": null,
            "_view_module_version": "1.2.0",
            "grid_template_areas": null,
            "object_position": null,
            "object_fit": null,
            "grid_auto_columns": null,
            "margin": null,
            "display": null,
            "left": null
          }
        },
        "9c3ce9cd08124af1a7f47331315c3e43": {
          "model_module": "@jupyter-widgets/controls",
          "model_name": "HTMLModel",
          "model_module_version": "1.5.0",
          "state": {
            "_view_name": "HTMLView",
            "style": "IPY_MODEL_21d7a202671c4b76a37d52a576875ebf",
            "_dom_classes": [],
            "description": "",
            "_model_name": "HTMLModel",
            "placeholder": "​",
            "_view_module": "@jupyter-widgets/controls",
            "_model_module_version": "1.5.0",
            "value": "Dl Size...: 100%",
            "_view_count": null,
            "_view_module_version": "1.5.0",
            "description_tooltip": null,
            "_model_module": "@jupyter-widgets/controls",
            "layout": "IPY_MODEL_da423bb37b06486197692b2c602e6a99"
          }
        },
        "a7efcba64fce42d980b38f4b08aaa42c": {
          "model_module": "@jupyter-widgets/controls",
          "model_name": "FloatProgressModel",
          "model_module_version": "1.5.0",
          "state": {
            "_view_name": "ProgressView",
            "style": "IPY_MODEL_1df9cb1e79124185a3dc625434b74cab",
            "_dom_classes": [],
            "description": "",
            "_model_name": "FloatProgressModel",
            "bar_style": "success",
            "max": 1,
            "_view_module": "@jupyter-widgets/controls",
            "_model_module_version": "1.5.0",
            "value": 1,
            "_view_count": null,
            "_view_module_version": "1.5.0",
            "orientation": "horizontal",
            "min": 0,
            "description_tooltip": null,
            "_model_module": "@jupyter-widgets/controls",
            "layout": "IPY_MODEL_9d9fe98335d1455c8dbcfe04d495e62c"
          }
        },
        "5d805676627a4f078295b6ff6b7fc82d": {
          "model_module": "@jupyter-widgets/controls",
          "model_name": "HTMLModel",
          "model_module_version": "1.5.0",
          "state": {
            "_view_name": "HTMLView",
            "style": "IPY_MODEL_6497e09e52674a06a351ed48bbad55cb",
            "_dom_classes": [],
            "description": "",
            "_model_name": "HTMLModel",
            "placeholder": "​",
            "_view_module": "@jupyter-widgets/controls",
            "_model_module_version": "1.5.0",
            "value": " 29/29 [00:03&lt;00:00, 17.23 MiB/s]",
            "_view_count": null,
            "_view_module_version": "1.5.0",
            "description_tooltip": null,
            "_model_module": "@jupyter-widgets/controls",
            "layout": "IPY_MODEL_e4a4d26f437f4573ab7bea9c70a2c51c"
          }
        },
        "21d7a202671c4b76a37d52a576875ebf": {
          "model_module": "@jupyter-widgets/controls",
          "model_name": "DescriptionStyleModel",
          "model_module_version": "1.5.0",
          "state": {
            "_view_name": "StyleView",
            "_model_name": "DescriptionStyleModel",
            "description_width": "",
            "_view_module": "@jupyter-widgets/base",
            "_model_module_version": "1.5.0",
            "_view_count": null,
            "_view_module_version": "1.2.0",
            "_model_module": "@jupyter-widgets/controls"
          }
        },
        "da423bb37b06486197692b2c602e6a99": {
          "model_module": "@jupyter-widgets/base",
          "model_name": "LayoutModel",
          "model_module_version": "1.2.0",
          "state": {
            "_view_name": "LayoutView",
            "grid_template_rows": null,
            "right": null,
            "justify_content": null,
            "_view_module": "@jupyter-widgets/base",
            "overflow": null,
            "_model_module_version": "1.2.0",
            "_view_count": null,
            "flex_flow": null,
            "width": null,
            "min_width": null,
            "border": null,
            "align_items": null,
            "bottom": null,
            "_model_module": "@jupyter-widgets/base",
            "top": null,
            "grid_column": null,
            "overflow_y": null,
            "overflow_x": null,
            "grid_auto_flow": null,
            "grid_area": null,
            "grid_template_columns": null,
            "flex": null,
            "_model_name": "LayoutModel",
            "justify_items": null,
            "grid_row": null,
            "max_height": null,
            "align_content": null,
            "visibility": null,
            "align_self": null,
            "height": null,
            "min_height": null,
            "padding": null,
            "grid_auto_rows": null,
            "grid_gap": null,
            "max_width": null,
            "order": null,
            "_view_module_version": "1.2.0",
            "grid_template_areas": null,
            "object_position": null,
            "object_fit": null,
            "grid_auto_columns": null,
            "margin": null,
            "display": null,
            "left": null
          }
        },
        "1df9cb1e79124185a3dc625434b74cab": {
          "model_module": "@jupyter-widgets/controls",
          "model_name": "ProgressStyleModel",
          "model_module_version": "1.5.0",
          "state": {
            "_view_name": "StyleView",
            "_model_name": "ProgressStyleModel",
            "description_width": "",
            "_view_module": "@jupyter-widgets/base",
            "_model_module_version": "1.5.0",
            "_view_count": null,
            "_view_module_version": "1.2.0",
            "bar_color": null,
            "_model_module": "@jupyter-widgets/controls"
          }
        },
        "9d9fe98335d1455c8dbcfe04d495e62c": {
          "model_module": "@jupyter-widgets/base",
          "model_name": "LayoutModel",
          "model_module_version": "1.2.0",
          "state": {
            "_view_name": "LayoutView",
            "grid_template_rows": null,
            "right": null,
            "justify_content": null,
            "_view_module": "@jupyter-widgets/base",
            "overflow": null,
            "_model_module_version": "1.2.0",
            "_view_count": null,
            "flex_flow": null,
            "width": "20px",
            "min_width": null,
            "border": null,
            "align_items": null,
            "bottom": null,
            "_model_module": "@jupyter-widgets/base",
            "top": null,
            "grid_column": null,
            "overflow_y": null,
            "overflow_x": null,
            "grid_auto_flow": null,
            "grid_area": null,
            "grid_template_columns": null,
            "flex": null,
            "_model_name": "LayoutModel",
            "justify_items": null,
            "grid_row": null,
            "max_height": null,
            "align_content": null,
            "visibility": null,
            "align_self": null,
            "height": null,
            "min_height": null,
            "padding": null,
            "grid_auto_rows": null,
            "grid_gap": null,
            "max_width": null,
            "order": null,
            "_view_module_version": "1.2.0",
            "grid_template_areas": null,
            "object_position": null,
            "object_fit": null,
            "grid_auto_columns": null,
            "margin": null,
            "display": null,
            "left": null
          }
        },
        "6497e09e52674a06a351ed48bbad55cb": {
          "model_module": "@jupyter-widgets/controls",
          "model_name": "DescriptionStyleModel",
          "model_module_version": "1.5.0",
          "state": {
            "_view_name": "StyleView",
            "_model_name": "DescriptionStyleModel",
            "description_width": "",
            "_view_module": "@jupyter-widgets/base",
            "_model_module_version": "1.5.0",
            "_view_count": null,
            "_view_module_version": "1.2.0",
            "_model_module": "@jupyter-widgets/controls"
          }
        },
        "e4a4d26f437f4573ab7bea9c70a2c51c": {
          "model_module": "@jupyter-widgets/base",
          "model_name": "LayoutModel",
          "model_module_version": "1.2.0",
          "state": {
            "_view_name": "LayoutView",
            "grid_template_rows": null,
            "right": null,
            "justify_content": null,
            "_view_module": "@jupyter-widgets/base",
            "overflow": null,
            "_model_module_version": "1.2.0",
            "_view_count": null,
            "flex_flow": null,
            "width": null,
            "min_width": null,
            "border": null,
            "align_items": null,
            "bottom": null,
            "_model_module": "@jupyter-widgets/base",
            "top": null,
            "grid_column": null,
            "overflow_y": null,
            "overflow_x": null,
            "grid_auto_flow": null,
            "grid_area": null,
            "grid_template_columns": null,
            "flex": null,
            "_model_name": "LayoutModel",
            "justify_items": null,
            "grid_row": null,
            "max_height": null,
            "align_content": null,
            "visibility": null,
            "align_self": null,
            "height": null,
            "min_height": null,
            "padding": null,
            "grid_auto_rows": null,
            "grid_gap": null,
            "max_width": null,
            "order": null,
            "_view_module_version": "1.2.0",
            "grid_template_areas": null,
            "object_position": null,
            "object_fit": null,
            "grid_auto_columns": null,
            "margin": null,
            "display": null,
            "left": null
          }
        },
        "f767975281784e0286c8bd82cb3e7a58": {
          "model_module": "@jupyter-widgets/controls",
          "model_name": "HBoxModel",
          "model_module_version": "1.5.0",
          "state": {
            "_view_name": "HBoxView",
            "_dom_classes": [],
            "_model_name": "HBoxModel",
            "_view_module": "@jupyter-widgets/controls",
            "_model_module_version": "1.5.0",
            "_view_count": null,
            "_view_module_version": "1.5.0",
            "box_style": "",
            "layout": "IPY_MODEL_e34d87acef464556bd92bcb6851274d2",
            "_model_module": "@jupyter-widgets/controls",
            "children": [
              "IPY_MODEL_0c87810b8ce04d829a1abe118818444e",
              "IPY_MODEL_ea2a36e8fc9a4d21871c023938ee3cd7",
              "IPY_MODEL_45c0cc5dff134f0d951f4336704c7a54"
            ]
          }
        },
        "e34d87acef464556bd92bcb6851274d2": {
          "model_module": "@jupyter-widgets/base",
          "model_name": "LayoutModel",
          "model_module_version": "1.2.0",
          "state": {
            "_view_name": "LayoutView",
            "grid_template_rows": null,
            "right": null,
            "justify_content": null,
            "_view_module": "@jupyter-widgets/base",
            "overflow": null,
            "_model_module_version": "1.2.0",
            "_view_count": null,
            "flex_flow": null,
            "width": null,
            "min_width": null,
            "border": null,
            "align_items": null,
            "bottom": null,
            "_model_module": "@jupyter-widgets/base",
            "top": null,
            "grid_column": null,
            "overflow_y": null,
            "overflow_x": null,
            "grid_auto_flow": null,
            "grid_area": null,
            "grid_template_columns": null,
            "flex": null,
            "_model_name": "LayoutModel",
            "justify_items": null,
            "grid_row": null,
            "max_height": null,
            "align_content": null,
            "visibility": null,
            "align_self": null,
            "height": null,
            "min_height": null,
            "padding": null,
            "grid_auto_rows": null,
            "grid_gap": null,
            "max_width": null,
            "order": null,
            "_view_module_version": "1.2.0",
            "grid_template_areas": null,
            "object_position": null,
            "object_fit": null,
            "grid_auto_columns": null,
            "margin": null,
            "display": null,
            "left": null
          }
        },
        "0c87810b8ce04d829a1abe118818444e": {
          "model_module": "@jupyter-widgets/controls",
          "model_name": "HTMLModel",
          "model_module_version": "1.5.0",
          "state": {
            "_view_name": "HTMLView",
            "style": "IPY_MODEL_b7326cf2a7c84012aac029602467daba",
            "_dom_classes": [],
            "description": "",
            "_model_name": "HTMLModel",
            "placeholder": "​",
            "_view_module": "@jupyter-widgets/controls",
            "_model_module_version": "1.5.0",
            "value": "Extraction completed...: 100%",
            "_view_count": null,
            "_view_module_version": "1.5.0",
            "description_tooltip": null,
            "_model_module": "@jupyter-widgets/controls",
            "layout": "IPY_MODEL_3908e128ea7246b09d896b89704426cc"
          }
        },
        "ea2a36e8fc9a4d21871c023938ee3cd7": {
          "model_module": "@jupyter-widgets/controls",
          "model_name": "FloatProgressModel",
          "model_module_version": "1.5.0",
          "state": {
            "_view_name": "ProgressView",
            "style": "IPY_MODEL_68d57fdc34a346febbe11f368002b628",
            "_dom_classes": [],
            "description": "",
            "_model_name": "FloatProgressModel",
            "bar_style": "success",
            "max": 1,
            "_view_module": "@jupyter-widgets/controls",
            "_model_module_version": "1.5.0",
            "value": 1,
            "_view_count": null,
            "_view_module_version": "1.5.0",
            "orientation": "horizontal",
            "min": 0,
            "description_tooltip": null,
            "_model_module": "@jupyter-widgets/controls",
            "layout": "IPY_MODEL_584b0dfe3eba4bd0bf131a4b60d588fe"
          }
        },
        "45c0cc5dff134f0d951f4336704c7a54": {
          "model_module": "@jupyter-widgets/controls",
          "model_name": "HTMLModel",
          "model_module_version": "1.5.0",
          "state": {
            "_view_name": "HTMLView",
            "style": "IPY_MODEL_e9ae07ce2c404ef6ad53b5d79764b017",
            "_dom_classes": [],
            "description": "",
            "_model_name": "HTMLModel",
            "placeholder": "​",
            "_view_module": "@jupyter-widgets/controls",
            "_model_module_version": "1.5.0",
            "value": " 4/4 [00:03&lt;00:00,  1.02s/ file]",
            "_view_count": null,
            "_view_module_version": "1.5.0",
            "description_tooltip": null,
            "_model_module": "@jupyter-widgets/controls",
            "layout": "IPY_MODEL_ad770f71d46a40de878614afe068a645"
          }
        },
        "b7326cf2a7c84012aac029602467daba": {
          "model_module": "@jupyter-widgets/controls",
          "model_name": "DescriptionStyleModel",
          "model_module_version": "1.5.0",
          "state": {
            "_view_name": "StyleView",
            "_model_name": "DescriptionStyleModel",
            "description_width": "",
            "_view_module": "@jupyter-widgets/base",
            "_model_module_version": "1.5.0",
            "_view_count": null,
            "_view_module_version": "1.2.0",
            "_model_module": "@jupyter-widgets/controls"
          }
        },
        "3908e128ea7246b09d896b89704426cc": {
          "model_module": "@jupyter-widgets/base",
          "model_name": "LayoutModel",
          "model_module_version": "1.2.0",
          "state": {
            "_view_name": "LayoutView",
            "grid_template_rows": null,
            "right": null,
            "justify_content": null,
            "_view_module": "@jupyter-widgets/base",
            "overflow": null,
            "_model_module_version": "1.2.0",
            "_view_count": null,
            "flex_flow": null,
            "width": null,
            "min_width": null,
            "border": null,
            "align_items": null,
            "bottom": null,
            "_model_module": "@jupyter-widgets/base",
            "top": null,
            "grid_column": null,
            "overflow_y": null,
            "overflow_x": null,
            "grid_auto_flow": null,
            "grid_area": null,
            "grid_template_columns": null,
            "flex": null,
            "_model_name": "LayoutModel",
            "justify_items": null,
            "grid_row": null,
            "max_height": null,
            "align_content": null,
            "visibility": null,
            "align_self": null,
            "height": null,
            "min_height": null,
            "padding": null,
            "grid_auto_rows": null,
            "grid_gap": null,
            "max_width": null,
            "order": null,
            "_view_module_version": "1.2.0",
            "grid_template_areas": null,
            "object_position": null,
            "object_fit": null,
            "grid_auto_columns": null,
            "margin": null,
            "display": null,
            "left": null
          }
        },
        "68d57fdc34a346febbe11f368002b628": {
          "model_module": "@jupyter-widgets/controls",
          "model_name": "ProgressStyleModel",
          "model_module_version": "1.5.0",
          "state": {
            "_view_name": "StyleView",
            "_model_name": "ProgressStyleModel",
            "description_width": "",
            "_view_module": "@jupyter-widgets/base",
            "_model_module_version": "1.5.0",
            "_view_count": null,
            "_view_module_version": "1.2.0",
            "bar_color": null,
            "_model_module": "@jupyter-widgets/controls"
          }
        },
        "584b0dfe3eba4bd0bf131a4b60d588fe": {
          "model_module": "@jupyter-widgets/base",
          "model_name": "LayoutModel",
          "model_module_version": "1.2.0",
          "state": {
            "_view_name": "LayoutView",
            "grid_template_rows": null,
            "right": null,
            "justify_content": null,
            "_view_module": "@jupyter-widgets/base",
            "overflow": null,
            "_model_module_version": "1.2.0",
            "_view_count": null,
            "flex_flow": null,
            "width": "20px",
            "min_width": null,
            "border": null,
            "align_items": null,
            "bottom": null,
            "_model_module": "@jupyter-widgets/base",
            "top": null,
            "grid_column": null,
            "overflow_y": null,
            "overflow_x": null,
            "grid_auto_flow": null,
            "grid_area": null,
            "grid_template_columns": null,
            "flex": null,
            "_model_name": "LayoutModel",
            "justify_items": null,
            "grid_row": null,
            "max_height": null,
            "align_content": null,
            "visibility": null,
            "align_self": null,
            "height": null,
            "min_height": null,
            "padding": null,
            "grid_auto_rows": null,
            "grid_gap": null,
            "max_width": null,
            "order": null,
            "_view_module_version": "1.2.0",
            "grid_template_areas": null,
            "object_position": null,
            "object_fit": null,
            "grid_auto_columns": null,
            "margin": null,
            "display": null,
            "left": null
          }
        },
        "e9ae07ce2c404ef6ad53b5d79764b017": {
          "model_module": "@jupyter-widgets/controls",
          "model_name": "DescriptionStyleModel",
          "model_module_version": "1.5.0",
          "state": {
            "_view_name": "StyleView",
            "_model_name": "DescriptionStyleModel",
            "description_width": "",
            "_view_module": "@jupyter-widgets/base",
            "_model_module_version": "1.5.0",
            "_view_count": null,
            "_view_module_version": "1.2.0",
            "_model_module": "@jupyter-widgets/controls"
          }
        },
        "ad770f71d46a40de878614afe068a645": {
          "model_module": "@jupyter-widgets/base",
          "model_name": "LayoutModel",
          "model_module_version": "1.2.0",
          "state": {
            "_view_name": "LayoutView",
            "grid_template_rows": null,
            "right": null,
            "justify_content": null,
            "_view_module": "@jupyter-widgets/base",
            "overflow": null,
            "_model_module_version": "1.2.0",
            "_view_count": null,
            "flex_flow": null,
            "width": null,
            "min_width": null,
            "border": null,
            "align_items": null,
            "bottom": null,
            "_model_module": "@jupyter-widgets/base",
            "top": null,
            "grid_column": null,
            "overflow_y": null,
            "overflow_x": null,
            "grid_auto_flow": null,
            "grid_area": null,
            "grid_template_columns": null,
            "flex": null,
            "_model_name": "LayoutModel",
            "justify_items": null,
            "grid_row": null,
            "max_height": null,
            "align_content": null,
            "visibility": null,
            "align_self": null,
            "height": null,
            "min_height": null,
            "padding": null,
            "grid_auto_rows": null,
            "grid_gap": null,
            "max_width": null,
            "order": null,
            "_view_module_version": "1.2.0",
            "grid_template_areas": null,
            "object_position": null,
            "object_fit": null,
            "grid_auto_columns": null,
            "margin": null,
            "display": null,
            "left": null
          }
        },
        "15dc95d8f09443aa8ecda39beb09d9be": {
          "model_module": "@jupyter-widgets/controls",
          "model_name": "HBoxModel",
          "model_module_version": "1.5.0",
          "state": {
            "_view_name": "HBoxView",
            "_dom_classes": [],
            "_model_name": "HBoxModel",
            "_view_module": "@jupyter-widgets/controls",
            "_model_module_version": "1.5.0",
            "_view_count": null,
            "_view_module_version": "1.5.0",
            "box_style": "",
            "layout": "IPY_MODEL_43448aa5e39249b8ae73072da10457d9",
            "_model_module": "@jupyter-widgets/controls",
            "children": [
              "IPY_MODEL_9fef79b5e15c44aba100e16ef89eda80",
              "IPY_MODEL_84ae7fb057414d23b6b44811b20451e5",
              "IPY_MODEL_061042792ec04a0dacce3f103b454d46"
            ]
          }
        },
        "43448aa5e39249b8ae73072da10457d9": {
          "model_module": "@jupyter-widgets/base",
          "model_name": "LayoutModel",
          "model_module_version": "1.2.0",
          "state": {
            "_view_name": "LayoutView",
            "grid_template_rows": null,
            "right": null,
            "justify_content": null,
            "_view_module": "@jupyter-widgets/base",
            "overflow": null,
            "_model_module_version": "1.2.0",
            "_view_count": null,
            "flex_flow": null,
            "width": null,
            "min_width": null,
            "border": null,
            "align_items": null,
            "bottom": null,
            "_model_module": "@jupyter-widgets/base",
            "top": null,
            "grid_column": null,
            "overflow_y": null,
            "overflow_x": null,
            "grid_auto_flow": null,
            "grid_area": null,
            "grid_template_columns": null,
            "flex": null,
            "_model_name": "LayoutModel",
            "justify_items": null,
            "grid_row": null,
            "max_height": null,
            "align_content": null,
            "visibility": null,
            "align_self": null,
            "height": null,
            "min_height": null,
            "padding": null,
            "grid_auto_rows": null,
            "grid_gap": null,
            "max_width": null,
            "order": null,
            "_view_module_version": "1.2.0",
            "grid_template_areas": null,
            "object_position": null,
            "object_fit": null,
            "grid_auto_columns": null,
            "margin": null,
            "display": null,
            "left": null
          }
        },
        "9fef79b5e15c44aba100e16ef89eda80": {
          "model_module": "@jupyter-widgets/controls",
          "model_name": "HTMLModel",
          "model_module_version": "1.5.0",
          "state": {
            "_view_name": "HTMLView",
            "style": "IPY_MODEL_57f2ff5bb5ef4bb4ae77ac0f7714d365",
            "_dom_classes": [],
            "description": "",
            "_model_name": "HTMLModel",
            "placeholder": "​",
            "_view_module": "@jupyter-widgets/controls",
            "_model_module_version": "1.5.0",
            "value": "Dl Completed...: 100%",
            "_view_count": null,
            "_view_module_version": "1.5.0",
            "description_tooltip": null,
            "_model_module": "@jupyter-widgets/controls",
            "layout": "IPY_MODEL_a55892a349ea4e549988baa59578e206"
          }
        },
        "84ae7fb057414d23b6b44811b20451e5": {
          "model_module": "@jupyter-widgets/controls",
          "model_name": "FloatProgressModel",
          "model_module_version": "1.5.0",
          "state": {
            "_view_name": "ProgressView",
            "style": "IPY_MODEL_5159884c232d4c7cb1b964dc9dbbcd93",
            "_dom_classes": [],
            "description": "",
            "_model_name": "FloatProgressModel",
            "bar_style": "success",
            "max": 4,
            "_view_module": "@jupyter-widgets/controls",
            "_model_module_version": "1.5.0",
            "value": 4,
            "_view_count": null,
            "_view_module_version": "1.5.0",
            "orientation": "horizontal",
            "min": 0,
            "description_tooltip": null,
            "_model_module": "@jupyter-widgets/controls",
            "layout": "IPY_MODEL_11a9dab0d7784b80b1b0438488c3438c"
          }
        },
        "061042792ec04a0dacce3f103b454d46": {
          "model_module": "@jupyter-widgets/controls",
          "model_name": "HTMLModel",
          "model_module_version": "1.5.0",
          "state": {
            "_view_name": "HTMLView",
            "style": "IPY_MODEL_5eed1348c8a5460fb4c2c84269ae8c50",
            "_dom_classes": [],
            "description": "",
            "_model_name": "HTMLModel",
            "placeholder": "​",
            "_view_module": "@jupyter-widgets/controls",
            "_model_module_version": "1.5.0",
            "value": " 4/4 [00:02&lt;00:00,  1.63 file/s]",
            "_view_count": null,
            "_view_module_version": "1.5.0",
            "description_tooltip": null,
            "_model_module": "@jupyter-widgets/controls",
            "layout": "IPY_MODEL_f6096cdadaf34f57bab855e1c570ee34"
          }
        },
        "57f2ff5bb5ef4bb4ae77ac0f7714d365": {
          "model_module": "@jupyter-widgets/controls",
          "model_name": "DescriptionStyleModel",
          "model_module_version": "1.5.0",
          "state": {
            "_view_name": "StyleView",
            "_model_name": "DescriptionStyleModel",
            "description_width": "",
            "_view_module": "@jupyter-widgets/base",
            "_model_module_version": "1.5.0",
            "_view_count": null,
            "_view_module_version": "1.2.0",
            "_model_module": "@jupyter-widgets/controls"
          }
        },
        "a55892a349ea4e549988baa59578e206": {
          "model_module": "@jupyter-widgets/base",
          "model_name": "LayoutModel",
          "model_module_version": "1.2.0",
          "state": {
            "_view_name": "LayoutView",
            "grid_template_rows": null,
            "right": null,
            "justify_content": null,
            "_view_module": "@jupyter-widgets/base",
            "overflow": null,
            "_model_module_version": "1.2.0",
            "_view_count": null,
            "flex_flow": null,
            "width": null,
            "min_width": null,
            "border": null,
            "align_items": null,
            "bottom": null,
            "_model_module": "@jupyter-widgets/base",
            "top": null,
            "grid_column": null,
            "overflow_y": null,
            "overflow_x": null,
            "grid_auto_flow": null,
            "grid_area": null,
            "grid_template_columns": null,
            "flex": null,
            "_model_name": "LayoutModel",
            "justify_items": null,
            "grid_row": null,
            "max_height": null,
            "align_content": null,
            "visibility": null,
            "align_self": null,
            "height": null,
            "min_height": null,
            "padding": null,
            "grid_auto_rows": null,
            "grid_gap": null,
            "max_width": null,
            "order": null,
            "_view_module_version": "1.2.0",
            "grid_template_areas": null,
            "object_position": null,
            "object_fit": null,
            "grid_auto_columns": null,
            "margin": null,
            "display": null,
            "left": null
          }
        },
        "5159884c232d4c7cb1b964dc9dbbcd93": {
          "model_module": "@jupyter-widgets/controls",
          "model_name": "ProgressStyleModel",
          "model_module_version": "1.5.0",
          "state": {
            "_view_name": "StyleView",
            "_model_name": "ProgressStyleModel",
            "description_width": "",
            "_view_module": "@jupyter-widgets/base",
            "_model_module_version": "1.5.0",
            "_view_count": null,
            "_view_module_version": "1.2.0",
            "bar_color": null,
            "_model_module": "@jupyter-widgets/controls"
          }
        },
        "11a9dab0d7784b80b1b0438488c3438c": {
          "model_module": "@jupyter-widgets/base",
          "model_name": "LayoutModel",
          "model_module_version": "1.2.0",
          "state": {
            "_view_name": "LayoutView",
            "grid_template_rows": null,
            "right": null,
            "justify_content": null,
            "_view_module": "@jupyter-widgets/base",
            "overflow": null,
            "_model_module_version": "1.2.0",
            "_view_count": null,
            "flex_flow": null,
            "width": null,
            "min_width": null,
            "border": null,
            "align_items": null,
            "bottom": null,
            "_model_module": "@jupyter-widgets/base",
            "top": null,
            "grid_column": null,
            "overflow_y": null,
            "overflow_x": null,
            "grid_auto_flow": null,
            "grid_area": null,
            "grid_template_columns": null,
            "flex": null,
            "_model_name": "LayoutModel",
            "justify_items": null,
            "grid_row": null,
            "max_height": null,
            "align_content": null,
            "visibility": null,
            "align_self": null,
            "height": null,
            "min_height": null,
            "padding": null,
            "grid_auto_rows": null,
            "grid_gap": null,
            "max_width": null,
            "order": null,
            "_view_module_version": "1.2.0",
            "grid_template_areas": null,
            "object_position": null,
            "object_fit": null,
            "grid_auto_columns": null,
            "margin": null,
            "display": null,
            "left": null
          }
        },
        "5eed1348c8a5460fb4c2c84269ae8c50": {
          "model_module": "@jupyter-widgets/controls",
          "model_name": "DescriptionStyleModel",
          "model_module_version": "1.5.0",
          "state": {
            "_view_name": "StyleView",
            "_model_name": "DescriptionStyleModel",
            "description_width": "",
            "_view_module": "@jupyter-widgets/base",
            "_model_module_version": "1.5.0",
            "_view_count": null,
            "_view_module_version": "1.2.0",
            "_model_module": "@jupyter-widgets/controls"
          }
        },
        "f6096cdadaf34f57bab855e1c570ee34": {
          "model_module": "@jupyter-widgets/base",
          "model_name": "LayoutModel",
          "model_module_version": "1.2.0",
          "state": {
            "_view_name": "LayoutView",
            "grid_template_rows": null,
            "right": null,
            "justify_content": null,
            "_view_module": "@jupyter-widgets/base",
            "overflow": null,
            "_model_module_version": "1.2.0",
            "_view_count": null,
            "flex_flow": null,
            "width": null,
            "min_width": null,
            "border": null,
            "align_items": null,
            "bottom": null,
            "_model_module": "@jupyter-widgets/base",
            "top": null,
            "grid_column": null,
            "overflow_y": null,
            "overflow_x": null,
            "grid_auto_flow": null,
            "grid_area": null,
            "grid_template_columns": null,
            "flex": null,
            "_model_name": "LayoutModel",
            "justify_items": null,
            "grid_row": null,
            "max_height": null,
            "align_content": null,
            "visibility": null,
            "align_self": null,
            "height": null,
            "min_height": null,
            "padding": null,
            "grid_auto_rows": null,
            "grid_gap": null,
            "max_width": null,
            "order": null,
            "_view_module_version": "1.2.0",
            "grid_template_areas": null,
            "object_position": null,
            "object_fit": null,
            "grid_auto_columns": null,
            "margin": null,
            "display": null,
            "left": null
          }
        }
      }
    }
  },
  "cells": [
    {
      "cell_type": "markdown",
      "metadata": {
        "id": "view-in-github",
        "colab_type": "text"
      },
      "source": [
        "<a href=\"https://colab.research.google.com/github/USIS009220/Programacion-III/blob/main/Copia_de_Copia_de_Copia_de_Copia_de_Copia_de_Copia_de_Copia_de_Te_damos_la_bienvenida_a_Colaboratory.ipynb\" target=\"_parent\"><img src=\"https://colab.research.google.com/assets/colab-badge.svg\" alt=\"Open In Colab\"/></a>"
      ]
    },
    {
      "cell_type": "markdown",
      "metadata": {
        "id": "uSuhjFVng9R7"
      },
      "source": [
        ""
      ]
    },
    {
      "cell_type": "markdown",
      "metadata": {
        "id": "W5rf9dXuFPgK"
      },
      "source": [
        "# Sección nueva"
      ]
    },
    {
      "cell_type": "markdown",
      "metadata": {
        "id": "5fCEDCU_qrC0"
      },
      "source": [
        "<p><img alt=\"Colaboratory logo\" height=\"45px\" src=\"/img/colab_favicon.ico\" align=\"left\" hspace=\"10px\" vspace=\"0px\"></p>\n",
        "\n",
        "<h1>¿Qué es Colaboratory?</h1>\n",
        "\n",
        "Colaboratory, también llamado Colab, te permite escribir y ejecutar código de Python en un navegador, con las siguientes particularidades:\n",
        "- Sin configuración requerida\n",
        "- Acceso gratuito a GPU\n",
        "- Facilidad para compartir\n",
        "\n",
        "Seas <strong>estudiante</strong>, <strong>científico de datos</strong> o <strong>investigador de IA</strong>, Colab facilita tu trabajo. Mira <a href=\"https://www.youtube.com/watch?v=inN8seMm7UI\">este video introductorio sobre Colab</a> para obtener más información, o bien comienza a usarlo más abajo."
      ]
    },
    {
      "cell_type": "code",
      "metadata": {
        "id": "PLeS67tZ2kJ6",
        "colab": {
          "base_uri": "https://localhost:8080/"
        },
        "outputId": "a8069abd-7c83-4605-8726-e30bb9a013be"
      },
      "source": [
        "etiquetas = [\n",
        "             [],#0\n",
        "             [0,\"1. Dolar\",\"2. Peso Mexicano\",\"3. Quetzale\",\"4. Colon Sv\",\"5. Lempiras\",\"6. Cordobas\",\"7. Colon CR\"],#monedas\n",
        "             [0,\"1. Metro\",\"2. CM\",\"3. Pulgadas\",\"4. Pies\",\"5. Varas\",\"6. Yardas\",\"7. Km\",\"8. Millas\"],#Logintud\n",
        "             [0,\"1. Libra\",\"2. Gramos\",\"3. Kilogramos\",\"4. Onzas\",\"5. Toneladas Cortas\"],#Masa\n",
        "             [0,\"1. MB\",\"2. Bits\",\"3. Byte\",\"4. KB\",\"5. GB\",\"6. TB\"]#Almacenamiento\n",
        "]\n",
        "valores = [\n",
        "           [],#\n",
        "           [0, 1, 19.91, 7.74, 8.75, 23.96, 35.11, 624.24],\n",
        "           [0, 1, 100,39.37, 3.28, 1.1963081929167, 1.09, 0.001, 0.00053],\n",
        "           [0, 1, 453.59, 0.45, 16, 0.0005],\n",
        "           [0, 1,8388608, 1048574, 1024, 0.0009765625, 0.000000095367416]\n",
        "]\n",
        "def CONVERSORES(opcion, de, a, cantidad):\n",
        "  return valores[opcion][a] / valores[opcion][de] * cantidad\n",
        " \n",
        " \n",
        "print(\" ** MENU CONVERSORES** \")\n",
        "print(\" 1.Monedas, \\n 2. Longitud \\n 3. Masa \\n 4.Almacenamiento\")\n",
        "opcion = int(input(\"CONVERSION: \"))\n",
        " \n",
        "print( etiquetas[opcion] )\n",
        "de = int(input(\"DE: \"))\n",
        "a = int(input(\"A: \"))\n",
        "cantidad = float(input(\"Cantidad: \"))"
      ],
      "execution_count": null,
      "outputs": [
        {
          "name": "stdout",
          "output_type": "stream",
          "text": [
            " ** MENU CONVERSORES** \n",
            " 1.Monedas, \n",
            " 2. Longitud \n",
            " 3. Masa \n",
            " 4.Almacenamiento\n",
            "CONVERSION: 1\n",
            "[0, '1. Dolar', '2. Peso Mexicano', '3. Quetzale', '4. Colon Sv', '5. Lempiras', '6. Cordobas', '7. Colon CR']\n",
            "DE: 2\n",
            "A: 1\n",
            "Cantidad: 1\n"
          ]
        }
      ]
    },
    {
      "cell_type": "code",
      "metadata": {
        "colab": {
          "base_uri": "https://localhost:8080/"
        },
        "id": "zbZ48a7DGX3A",
        "outputId": "9e51f681-5fdb-4ed0-f4a3-b615d84d6789"
      },
      "source": [
        "conversion = lambda f:(f-32)*5/9\n",
        "f = float(input(\"Fahrenheit: \"))\n",
        "print(\"Grados F: \", f, \" en celsius es: \", conversion(f))"
      ],
      "execution_count": null,
      "outputs": [
        {
          "output_type": "stream",
          "name": "stdout",
          "text": [
            "Fahrenheit: 105\n",
            "Grados F:  105.0  en celsius es:  40.55555555555556\n"
          ]
        }
      ]
    },
    {
      "cell_type": "code",
      "metadata": {
        "colab": {
          "base_uri": "https://localhost:8080/"
        },
        "id": "m2KohvnQFSVA",
        "outputId": "2b8b3f29-ac4c-4079-d8ab-7b6165d7bbf2"
      },
      "source": [
        "meses = int(input(\"Meses: \"))\n",
        "i = 0\n",
        "acumulacion = 0\n",
        "while( i<= meses):\n",
        "  acumulacion += i\n",
        "  i+=1\n",
        "  print(\"Meses: \", meses, \"acumulacion: \",acumulacion)"
      ],
      "execution_count": null,
      "outputs": [
        {
          "output_type": "stream",
          "name": "stdout",
          "text": [
            "Meses: 10\n",
            "Meses:  10 acumulacion:  0\n",
            "Meses:  10 acumulacion:  1\n",
            "Meses:  10 acumulacion:  3\n",
            "Meses:  10 acumulacion:  6\n",
            "Meses:  10 acumulacion:  10\n",
            "Meses:  10 acumulacion:  15\n",
            "Meses:  10 acumulacion:  21\n",
            "Meses:  10 acumulacion:  28\n",
            "Meses:  10 acumulacion:  36\n",
            "Meses:  10 acumulacion:  45\n",
            "Meses:  10 acumulacion:  55\n"
          ]
        }
      ]
    },
    {
      "cell_type": "code",
      "metadata": {
        "id": "ZpJ7edBu9kNB"
      },
      "source": [
        "import pandas as pd\n",
        "import matplotlib.pyplot as plt\n"
      ],
      "execution_count": null,
      "outputs": []
    },
    {
      "cell_type": "code",
      "metadata": {
        "colab": {
          "base_uri": "https://localhost:8080/"
        },
        "id": "A_57nOpc-qs3",
        "outputId": "d4ae5aa6-5d1d-4bb5-ae5a-148ef5c0d621"
      },
      "source": [
        "lenguajesProgra = pd.Series([\"VB\",\"JAVA\",\"Pyton\",\"HTML\",\"CSS\",\"JS\",\"C#\",\"PHP\",\"XML\"]\n",
        "                            , index=[1,2,3,4,4,4,5,4,6])\n",
        "print(lenguajesProgra, lenguajesProgra[4])\n",
        "\n",
        "misLenguajes = {\n",
        "    1:\"VB\",\n",
        "    2:\"JAVA\",\n",
        "    3:\"Pyton\",\n",
        "    4:\"HTML\",\n",
        "    5:\"CSS\",\n",
        "    6:\"JS\",\n",
        "    0:\"C#\",\n",
        "    8:\"PHP\",\n",
        "    10:\"XML\"\n",
        "}\n",
        "diccionarioLenguajes = pd.Series(misLenguajes)\n",
        "print(diccionarioLenguajes, diccionarioLenguajes[1])"
      ],
      "execution_count": null,
      "outputs": [
        {
          "output_type": "stream",
          "name": "stdout",
          "text": [
            "1       VB\n",
            "2     JAVA\n",
            "3    Pyton\n",
            "4     HTML\n",
            "4      CSS\n",
            "4       JS\n",
            "5       C#\n",
            "4      PHP\n",
            "6      XML\n",
            "dtype: object 4    HTML\n",
            "4     CSS\n",
            "4      JS\n",
            "4     PHP\n",
            "dtype: object\n",
            "1        VB\n",
            "2      JAVA\n",
            "3     Pyton\n",
            "4      HTML\n",
            "5       CSS\n",
            "6        JS\n",
            "0        C#\n",
            "8       PHP\n",
            "10      XML\n",
            "dtype: object VB\n"
          ]
        }
      ]
    },
    {
      "cell_type": "code",
      "metadata": {
        "colab": {
          "base_uri": "https://localhost:8080/",
          "height": 486
        },
        "id": "se5PAXg8GfE2",
        "outputId": "349d467c-f1dc-4a7c-8032-33a062d5e92c"
      },
      "source": [
        "archivo = pd.read_csv(\"/content/notas.csv\",sep=\";\",encoding=\"utf-8\")\n",
        "#print(archivo, archivo[\"notas.csv\"])\n",
        "\n",
        "procesar = pd.crosstab(index=archivo[\"Notas\"],columns=\"cant_veces_repite\")\n",
        "#print(procesar)\n",
        "\n",
        "agrupando = archivo.groupby([\"Notas\"]).agg({lambda x:x+\",\"})\n",
        "print(agrupando)\n",
        "\n",
        "plt.pie(procesar, labels=procesar.index)\n",
        "plt.xlabel(\"Notas por estudiante\")\n",
        "plt.show()"
      ],
      "execution_count": null,
      "outputs": [
        {
          "output_type": "stream",
          "name": "stdout",
          "text": [
            "                                Alumnos\n",
            "                               <lambda>\n",
            "Notas                                  \n",
            "2                           Juan peres,\n",
            "4        [Luis Hernandez,, Jose Perez,]\n",
            "5                                Josue,\n",
            "7                          Mario Claro,\n",
            "8       [Jose Chavez,, Maurio Vazques,]\n",
            "9      [Michell Cruz,, Mario Espinoza,]\n",
            "10                     Alejandro Vigil,\n"
          ]
        },
        {
          "output_type": "stream",
          "name": "stderr",
          "text": [
            "/usr/local/lib/python3.7/dist-packages/ipykernel_launcher.py:10: MatplotlibDeprecationWarning: Non-1D inputs to pie() are currently squeeze()d, but this behavior is deprecated since 3.1 and will be removed in 3.3; pass a 1D array instead.\n",
            "  # Remove the CWD from sys.path while we load stuff.\n"
          ]
        },
        {
          "output_type": "display_data",
          "data": {
            "image/png": "[encoded data removed]",
            "text/plain": [
              "<Figure size 432x288 with 1 Axes>"
            ]
          },
          "metadata": {}
        }
      ]
    },
    {
      "cell_type": "code",
      "metadata": {
        "colab": {
          "base_uri": "https://localhost:8080/",
          "height": 374
        },
        "id": "CqdpuTwkIiEH",
        "outputId": "33efc6b0-7d8f-42dc-e2fa-4bd4c154d696"
      },
      "source": [
        "Usuario = pd.read_csv(\"/content/Usuario.csv\", sep=\",\", encoding=\"latin-1\")\n",
        "#print(Usuario)\n",
        "\n",
        "Peliculas = pd.read_csv(\"/content/Peliculas.csv\", sep=\";\",encoding=\"utf-8\")\n",
        "#print(Peliculas)\n",
        "\n",
        "UsuarioPeliculas = pd.read_csv(\"/content/UsuarioPeliculas.csv\", sep=\";\")\n",
        "#print(UsuarioPeliculas)\n",
        "\n",
        "UsuarioPeliculas = pd.merge(Usuario, UsuarioPeliculas)\n",
        "print(UsuarioPeliculas)"
      ],
      "execution_count": null,
      "outputs": [
        {
          "output_type": "error",
          "ename": "MergeError",
          "evalue": "ignored",
          "traceback": [
            "\u001b[0;31m---------------------------------------------------------------------------\u001b[0m",
            "\u001b[0;31mMergeError\u001b[0m                                Traceback (most recent call last)",
            "\u001b[0;32m<ipython-input-35-1941524ca335>\u001b[0m in \u001b[0;36m<module>\u001b[0;34m()\u001b[0m\n\u001b[1;32m      8\u001b[0m \u001b[0;31m#print(UsuarioPeliculas)\u001b[0m\u001b[0;34m\u001b[0m\u001b[0;34m\u001b[0m\u001b[0;34m\u001b[0m\u001b[0m\n\u001b[1;32m      9\u001b[0m \u001b[0;34m\u001b[0m\u001b[0m\n\u001b[0;32m---> 10\u001b[0;31m \u001b[0mUsuarioPeliculas\u001b[0m \u001b[0;34m=\u001b[0m \u001b[0mpd\u001b[0m\u001b[0;34m.\u001b[0m\u001b[0mmerge\u001b[0m\u001b[0;34m(\u001b[0m\u001b[0mUsuario\u001b[0m\u001b[0;34m,\u001b[0m \u001b[0mUsuarioPeliculas\u001b[0m\u001b[0;34m)\u001b[0m\u001b[0;34m\u001b[0m\u001b[0;34m\u001b[0m\u001b[0m\n\u001b[0m\u001b[1;32m     11\u001b[0m \u001b[0mprint\u001b[0m\u001b[0;34m(\u001b[0m\u001b[0mUsuarioPeliculas\u001b[0m\u001b[0;34m)\u001b[0m\u001b[0;34m\u001b[0m\u001b[0;34m\u001b[0m\u001b[0m\n",
            "\u001b[0;32m/usr/local/lib/python3.7/dist-packages/pandas/core/reshape/merge.py\u001b[0m in \u001b[0;36mmerge\u001b[0;34m(left, right, how, on, left_on, right_on, left_index, right_index, sort, suffixes, copy, indicator, validate)\u001b[0m\n\u001b[1;32m     85\u001b[0m         \u001b[0mcopy\u001b[0m\u001b[0;34m=\u001b[0m\u001b[0mcopy\u001b[0m\u001b[0;34m,\u001b[0m\u001b[0;34m\u001b[0m\u001b[0;34m\u001b[0m\u001b[0m\n\u001b[1;32m     86\u001b[0m         \u001b[0mindicator\u001b[0m\u001b[0;34m=\u001b[0m\u001b[0mindicator\u001b[0m\u001b[0;34m,\u001b[0m\u001b[0;34m\u001b[0m\u001b[0;34m\u001b[0m\u001b[0m\n\u001b[0;32m---> 87\u001b[0;31m         \u001b[0mvalidate\u001b[0m\u001b[0;34m=\u001b[0m\u001b[0mvalidate\u001b[0m\u001b[0;34m,\u001b[0m\u001b[0;34m\u001b[0m\u001b[0;34m\u001b[0m\u001b[0m\n\u001b[0m\u001b[1;32m     88\u001b[0m     )\n\u001b[1;32m     89\u001b[0m     \u001b[0;32mreturn\u001b[0m \u001b[0mop\u001b[0m\u001b[0;34m.\u001b[0m\u001b[0mget_result\u001b[0m\u001b[0;34m(\u001b[0m\u001b[0;34m)\u001b[0m\u001b[0;34m\u001b[0m\u001b[0;34m\u001b[0m\u001b[0m\n",
            "\u001b[0;32m/usr/local/lib/python3.7/dist-packages/pandas/core/reshape/merge.py\u001b[0m in \u001b[0;36m__init__\u001b[0;34m(self, left, right, how, on, left_on, right_on, axis, left_index, right_index, sort, suffixes, copy, indicator, validate)\u001b[0m\n\u001b[1;32m    643\u001b[0m             \u001b[0mwarnings\u001b[0m\u001b[0;34m.\u001b[0m\u001b[0mwarn\u001b[0m\u001b[0;34m(\u001b[0m\u001b[0mmsg\u001b[0m\u001b[0;34m,\u001b[0m \u001b[0mUserWarning\u001b[0m\u001b[0;34m)\u001b[0m\u001b[0;34m\u001b[0m\u001b[0;34m\u001b[0m\u001b[0m\n\u001b[1;32m    644\u001b[0m \u001b[0;34m\u001b[0m\u001b[0m\n\u001b[0;32m--> 645\u001b[0;31m         \u001b[0mself\u001b[0m\u001b[0;34m.\u001b[0m\u001b[0m_validate_specification\u001b[0m\u001b[0;34m(\u001b[0m\u001b[0;34m)\u001b[0m\u001b[0;34m\u001b[0m\u001b[0;34m\u001b[0m\u001b[0m\n\u001b[0m\u001b[1;32m    646\u001b[0m \u001b[0;34m\u001b[0m\u001b[0m\n\u001b[1;32m    647\u001b[0m         \u001b[0;31m# note this function has side effects\u001b[0m\u001b[0;34m\u001b[0m\u001b[0;34m\u001b[0m\u001b[0;34m\u001b[0m\u001b[0m\n",
            "\u001b[0;32m/usr/local/lib/python3.7/dist-packages/pandas/core/reshape/merge.py\u001b[0m in \u001b[0;36m_validate_specification\u001b[0;34m(self)\u001b[0m\n\u001b[1;32m   1215\u001b[0m                 \u001b[0;32mif\u001b[0m \u001b[0mlen\u001b[0m\u001b[0;34m(\u001b[0m\u001b[0mcommon_cols\u001b[0m\u001b[0;34m)\u001b[0m \u001b[0;34m==\u001b[0m \u001b[0;36m0\u001b[0m\u001b[0;34m:\u001b[0m\u001b[0;34m\u001b[0m\u001b[0;34m\u001b[0m\u001b[0m\n\u001b[1;32m   1216\u001b[0m                     raise MergeError(\n\u001b[0;32m-> 1217\u001b[0;31m                         \u001b[0;34m\"No common columns to perform merge on. \"\u001b[0m\u001b[0;34m\u001b[0m\u001b[0;34m\u001b[0m\u001b[0m\n\u001b[0m\u001b[1;32m   1218\u001b[0m                         \u001b[0;34mf\"Merge options: left_on={self.left_on}, \"\u001b[0m\u001b[0;34m\u001b[0m\u001b[0;34m\u001b[0m\u001b[0m\n\u001b[1;32m   1219\u001b[0m                         \u001b[0;34mf\"right_on={self.right_on}, \"\u001b[0m\u001b[0;34m\u001b[0m\u001b[0;34m\u001b[0m\u001b[0m\n",
            "\u001b[0;31mMergeError\u001b[0m: No common columns to perform merge on. Merge options: left_on=None, right_on=None, left_index=False, right_index=False"
          ]
        }
      ]
    },
    {
      "cell_type": "markdown",
      "metadata": {
        "id": "Bv3gNNexHKsI"
      },
      "source": [
        "Uso de Tersorflow para entrenar una red neuronal que apreda a leer numeros"
      ]
    },
    {
      "cell_type": "code",
      "metadata": {
        "id": "0blDId_qHFl5"
      },
      "source": [
        "#Importar las librerias necesarias\n",
        "import tensorflow as tf\n",
        "import tensorflow_datasets as tfds\n",
        "import math\n",
        "import numpy as np\n",
        "import matplotlib.pyplot as plt"
      ],
      "execution_count": null,
      "outputs": []
    },
    {
      "cell_type": "code",
      "metadata": {
        "id": "2xZhsAicIczO",
        "colab": {
          "base_uri": "https://localhost:8080/",
          "height": 205,
          "referenced_widgets": [
            "fa74c856c61e49f99137cd8840509ad3",
            "ad794e72e8104b13b9c747e560f13c87",
            "bac9884d3db04a8dbc137507f71e04b8",
            "7efdbb6c2ed04b65b290d810a4f3f532",
            "927fc17f72a249ce97dec4f2ee528bfa",
            "39e1685ff96944aba3360ceec77c3ece",
            "0f8e417e41c24f9884f082cdffbe82a2",
            "3da80c210bec4d78ab348330ebf314ea",
            "798c537749b84c81be31847a3482c680",
            "ccade4fbaff34e6cafa413a20529d348",
            "d71472e8bf6349a282413b4dbdcdcadb"
          ]
        },
        "outputId": "8929ba0d-db87-4116-a2d7-d5a4d11fe326"
      },
      "source": [
        "#Cargamos en dataset de entrenamiento y prueba, los numeros 0 - 9\n",
        "dataset, metadata = tfds.load(\"mnist\", as_supervised=True, with_info=True)\n",
        "datos_entrenamiento, datos_pruebas = dataset[\"train\"], dataset[\"test\"]"
      ],
      "execution_count": null,
      "outputs": [
        {
          "output_type": "stream",
          "name": "stdout",
          "text": [
            "\u001b[1mDownloading and preparing dataset mnist/3.0.1 (download: 11.06 MiB, generated: 21.00 MiB, total: 32.06 MiB) to /root/tensorflow_datasets/mnist/3.0.1...\u001b[0m\n"
          ]
        },
        {
          "output_type": "stream",
          "name": "stderr",
          "text": [
            "WARNING:absl:Dataset mnist is hosted on GCS. It will automatically be downloaded to your\n",
            "local data directory. If you'd instead prefer to read directly from our public\n",
            "GCS bucket (recommended if you're running on GCP), you can instead pass\n",
            "`try_gcs=True` to `tfds.load` or set `data_dir=gs://tfds-data/datasets`.\n",
            "\n"
          ]
        },
        {
          "output_type": "display_data",
          "data": {
            "application/vnd.jupyter.widget-view+json": {
              "model_id": "fa74c856c61e49f99137cd8840509ad3",
              "version_minor": 0,
              "version_major": 2
            },
            "text/plain": [
              "Dl Completed...:   0%|          | 0/4 [00:00<?, ? file/s]"
            ]
          },
          "metadata": {}
        },
        {
          "output_type": "stream",
          "name": "stdout",
          "text": [
            "\n",
            "\u001b[1mDataset mnist downloaded and prepared to /root/tensorflow_datasets/mnist/3.0.1. Subsequent calls will reuse this data.\u001b[0m\n"
          ]
        }
      ]
    },
    {
      "cell_type": "code",
      "metadata": {
        "id": "lvl2kF41KChT"
      },
      "source": [
        "numeros_letras = [\"Cero\",\"Uno\",\"Dos\",\"Tres\",\"Cuatro\",\"Cinco\",\"Seis\",\"Siete\",\"Ocho\",\"Nueve\"]"
      ],
      "execution_count": null,
      "outputs": []
    },
    {
      "cell_type": "code",
      "metadata": {
        "colab": {
          "base_uri": "https://localhost:8080/"
        },
        "id": "5n4oueTVKgnU",
        "outputId": "20674e09-ae53-4d51-ca37-d2b26d986f13"
      },
      "source": [
        "#Pasams en variable los datos de ejemplo de entrenamiento y prueba\n",
        "numeros_ejemplos_entrenamiento = metadata.splits[\"train\"].num_examples\n",
        "numeros_ejemplos_prueba = metadata.splits[\"test\"].num_examples\n",
        "\n",
        "print(numeros_ejemplos_entrenamiento, numeros_ejemplos_prueba)"
      ],
      "execution_count": null,
      "outputs": [
        {
          "output_type": "stream",
          "name": "stdout",
          "text": [
            "60000 10000\n"
          ]
        }
      ]
    },
    {
      "cell_type": "code",
      "metadata": {
        "id": "C4A-lkd6L1eQ"
      },
      "source": [
        "#Vamos a pasar los numeros (pixeles) que van de 0 - 255 sean 0 - 1\n",
        "def normalizacion(images, labels):\n",
        "  images = tf.cast(images, tf.float32)\n",
        "  images /=255\n",
        "  return images, labels"
      ],
      "execution_count": null,
      "outputs": []
    },
    {
      "cell_type": "code",
      "metadata": {
        "id": "gUgWxO5CMtD9"
      },
      "source": [
        "#llamamos nuestra imagen normalizadora para convertir los numeros(pixeles) de 0 - 255 sean de 0 - 1\n",
        "datos_entrenamiento = datos_entrenamiento.map(normalizacion)\n",
        "datos_pruebas = datos_pruebas.map(normalizacion)"
      ],
      "execution_count": null,
      "outputs": []
    },
    {
      "cell_type": "code",
      "metadata": {
        "id": "iJDj2XEjNdTL"
      },
      "source": [
        "#Crear la estuctura de nuestra red neuronal\n",
        "modelo = tf.keras.Sequential([\n",
        "  tf.keras.layers.Flatten(input_shape=(28,28,1)), #28*28 = 784 neuronas una para cada pixel\n",
        "  tf.keras.layers.Dense(64, activation=tf.nn.relu),\n",
        "  tf.keras.layers.Dense(64, activation=tf.nn.relu),\n",
        "  tf.keras.layers.Dense(10, activation=tf.nn.softmax) #10 neuronas una para cada numero\n",
        "])"
      ],
      "execution_count": null,
      "outputs": []
    },
    {
      "cell_type": "code",
      "metadata": {
        "id": "yec-P0W-OyC6"
      },
      "source": [
        "#Compilamos nuestro modelo\n",
        "modelo.compile(optimizer=\"adam\", loss=\"sparse_categorical_crossentropy\", metrics=[\"accuracy\"])"
      ],
      "execution_count": null,
      "outputs": []
    },
    {
      "cell_type": "code",
      "metadata": {
        "id": "0e8ZVWoNPPYB"
      },
      "source": [
        "#realizacion el entremiento por lote\n",
        "batchsize = 32\n",
        "datos_entrenamiento = datos_entrenamiento.repeat().shuffle(numeros_ejemplos_entrenamiento).batch(batchsize) #ordenado de forma aleatoria\n",
        "datos_pruebas = datos_pruebas.batch(batchsize)"
      ],
      "execution_count": null,
      "outputs": []
    },
    {
      "cell_type": "code",
      "metadata": {
        "colab": {
          "base_uri": "https://localhost:8080/"
        },
        "id": "apXM9IdHQ2mF",
        "outputId": "bdf190cd-7a71-4697-d1e9-b487a0d55780"
      },
      "source": [
        "#Hacemos el entrenamiento de nuestra red neuronal con los datos de entrenamiento\n",
        "modelo.fit(datos_entrenamiento, epochs=5, \n",
        "           steps_per_epoch=math.ceil(numeros_ejemplos_entrenamiento/batchsize))"
      ],
      "execution_count": null,
      "outputs": [
        {
          "output_type": "stream",
          "name": "stdout",
          "text": [
            "Epoch 1/5\n",
            "1875/1875 [==============================] - 12s 3ms/step - loss: 0.2693 - accuracy: 0.9222\n",
            "Epoch 2/5\n",
            "1875/1875 [==============================] - 5s 3ms/step - loss: 0.1222 - accuracy: 0.9638\n",
            "Epoch 3/5\n",
            "1875/1875 [==============================] - 5s 3ms/step - loss: 0.0871 - accuracy: 0.9736\n",
            "Epoch 4/5\n",
            "1875/1875 [==============================] - 5s 3ms/step - loss: 0.0711 - accuracy: 0.9781\n",
            "Epoch 5/5\n",
            "1875/1875 [==============================] - 6s 3ms/step - loss: 0.0565 - accuracy: 0.9830\n"
          ]
        },
        {
          "output_type": "execute_result",
          "data": {
            "text/plain": [
              "<keras.callbacks.History at 0x7f6de56970d0>"
            ]
          },
          "metadata": {},
          "execution_count": 10
        }
      ]
    },
    {
      "cell_type": "code",
      "metadata": {
        "colab": {
          "base_uri": "https://localhost:8080/"
        },
        "id": "6yjKyPM538Ux",
        "outputId": "e023d805-a62d-4116-8805-9dad68ffe485"
      },
      "source": [
        "#Evaluar el modelo con los datos de prueba\n",
        "test_loss, test_accuracy = modelo.evaluate(datos_pruebas,steps=math.ceil(numeros_ejemplos_prueba/batchsize))\n",
        "print(\"Resultado de las pruebas\", test_loss, test_accuracy)"
      ],
      "execution_count": null,
      "outputs": [
        {
          "output_type": "stream",
          "name": "stdout",
          "text": [
            "313/313 [==============================] - 2s 4ms/step - loss: 0.0921 - accuracy: 0.9736\n",
            "Resultado de las pruebas 0.0921485498547554 0.9735999703407288\n"
          ]
        }
      ]
    },
    {
      "cell_type": "code",
      "metadata": {
        "id": "1pbLRTMD5r24"
      },
      "source": [
        "#graficar la salida para evaluar los resultados\n",
        "def graficar_imagen(i, predictions_array, true_labels, images):\n",
        "  predictions_array, true_labels, img = predictions_array[i], true_labels[i], images[i]\n",
        "  plt.grid(False)\n",
        "  #plt.xticks([])\n",
        "  #plt.yticks([])\n",
        "  plt.imshow(img[...,0], cmap=plt.cm.binary)\n",
        "\n",
        "  predicted_label = np.argmax(predictions_array)\n",
        "  if predicted_label==true_labels:\n",
        "    color = \"green\"\n",
        "  else:\n",
        "    color = \"red\"\n",
        "  plt.xlabel(\"Prediccion: {}\".format(numeros_letras[predicted_label]), color=\"green\")"
      ],
      "execution_count": null,
      "outputs": []
    },
    {
      "cell_type": "code",
      "metadata": {
        "id": "15NS3xZIA7dw"
      },
      "source": [
        "#convertimos los tensores o imagenes en matrices numpy\n",
        "for imagenes_pruebas, etiquetas_pruebas in datos_pruebas.take(1):\n",
        "  imagenes_pruebas = imagenes_pruebas.numpy()\n",
        "  etiquetas_pruebas = etiquetas_pruebas.numpy()\n",
        "  predicciones = modelo.predict(imagenes_pruebas)"
      ],
      "execution_count": null,
      "outputs": []
    },
    {
      "cell_type": "code",
      "metadata": {
        "id": "QKvnrY8TCJ0n",
        "colab": {
          "base_uri": "https://localhost:8080/",
          "height": 313
        },
        "outputId": "de3da9a6-e8fd-43bb-fb8b-70394b0311c8"
      },
      "source": [
        "i = 0\n",
        "for miImagen, etiqueta in datos_entrenamiento.take(1):\n",
        "  etiqueta = etiqueta.numpy()\n",
        "  imagen = miImagen[i].numpy().reshape(1,28,28,1)\n",
        "  prediccion = modelo.predict(imagen, batch_size=1)\n",
        "\n",
        "valor_predicho = np.argmax(prediccion)  \n",
        "print( valor_predicho, etiqueta[i] ) \n",
        "\n",
        "index = 0\n",
        "img = imagen #imagen_prueba[index]\n",
        "plt.grid(False)\n",
        "plt.imshow(img[0,...,0], cmap=plt.cm.binary)\n",
        "#label = etiqueta_prueba[index]\n",
        "plt.xlabel(\"Prediccion: {}\".format(numeros_letras[valor_predicho]), color=\"green\")"
      ],
      "execution_count": null,
      "outputs": [
        {
          "output_type": "stream",
          "name": "stdout",
          "text": [
            "9 9\n"
          ]
        },
        {
          "output_type": "execute_result",
          "data": {
            "text/plain": [
              "Text(0.5, 0, 'Prediccion: Nueve')"
            ]
          },
          "metadata": {},
          "execution_count": 24
        },
        {
          "output_type": "display_data",
          "data": {
            "image/png": "[encoded data removed]",
            "text/plain": [
              "<Figure size 432x288 with 1 Axes>"
            ]
          },
          "metadata": {
            "needs_background": "light"
          }
        }
      ]
    },
    {
      "cell_type": "code",
      "metadata": {
        "id": "-01UAHvcECTt"
      },
      "source": [
        "#Graficamos los valores de las matriz una para las imagenes y otra para las graficas de barra segun el acierto\n",
        "def graficar_valores_matriz(i, matriz_prediccion, etiqueta_verdadera):\n",
        "  matriz_prediccion, etiqueta_verdadera = matriz_prediccion[i], etiqueta_verdadera[i]\n",
        "  plt.grid(False)\n",
        "  #plt.xticks([])\n",
        "  #plt.yticks([])\n",
        "  thisplot = plt.bar(range(10), matriz_prediccion, color=\"#888888\")\n",
        "  plt.ylim([0,1])\n",
        "  etiqueta_prediccion = np.argmax(matriz_prediccion)\n",
        "\n",
        "  thisplot[etiqueta_prediccion].set_color(\"red\")\n",
        "  thisplot[etiqueta_verdadera].set_color(\"green\")"
      ],
      "execution_count": null,
      "outputs": []
    },
    {
      "cell_type": "code",
      "metadata": {
        "colab": {
          "base_uri": "https://localhost:8080/",
          "height": 468
        },
        "id": "6MUWsS9SNM2S",
        "outputId": "0d354a30-769b-4766-85c1-0c6f87249e02"
      },
      "source": [
        "#recorrer las imagenes a graficar\n",
        "numfilas = 5\n",
        "numcols = 5\n",
        "numimgs = numfilas*numcols\n",
        "\n",
        "plt.figure(figsize=(2*2*numcols, 2*numfilas))\n",
        "for i in range(numimgs):\n",
        "  plt.subplot(numfilas, 2*numcols, 2*i+1)\n",
        "  graficar_imagen(i, predicciones, etiquetas_pruebas, imagenes_pruebas)\n",
        "\n",
        "  plt.subplot(numfilas, 2*numcols, 2*i+2)\n",
        "  graficar_valores_matriz(i, predicciones, etiquetas_pruebas)\n",
        "\n",
        "plt.show()"
      ],
      "execution_count": null,
      "outputs": [
        {
          "output_type": "display_data",
          "data": {
            "image/png": "[encoded data removed]",
            "text/plain": [
              "<Figure size 1440x720 with 50 Axes>"
            ]
          },
          "metadata": {
            "needs_background": "light"
          }
        }
      ]
    },
    {
      "cell_type": "code",
      "metadata": {
        "id": "dSf4f_nN0BCl"
      },
      "source": [
        "#Importar las librerias\n",
        "import tensorflow as tf\n",
        "import tensorflow_datasets as tfds\n",
        "import math\n",
        "import numpy as np\n",
        "import matplotlib.pyplot as plt"
      ],
      "execution_count": null,
      "outputs": []
    },
    {
      "cell_type": "code",
      "metadata": {
        "id": "3xTxUOx80GBO",
        "colab": {
          "base_uri": "https://localhost:8080/",
          "height": 296,
          "referenced_widgets": [
            "3b4243945bc94f73a5dc80419f6239ec",
            "c22942594a464c1893ffb90aa3ed2ca4",
            "cf47b8cef1a14a17979230f46757eb62",
            "39ad511f5a6647efaa966516052cb283",
            "0254ca9f9a5a42ccb0c5008aede5fd65",
            "cdcd24d2684845d78704708738f5f253",
            "4cf1c3f8cc844e1b851ef1bc69b54776",
            "efd5d409d3ff43eb87a627d2e9bb1e66",
            "deaef28a3b544403ad56fcb4cd7a1fe9",
            "e4132229e3b54c3aa740b6122158e904",
            "61169e982a6b4436becdfecb7f7ffbc7",
            "ecd61d535df54e22910ac2a21b114550",
            "29bd4005c15e4f5c9646fc155904745a",
            "9c3ce9cd08124af1a7f47331315c3e43",
            "a7efcba64fce42d980b38f4b08aaa42c",
            "5d805676627a4f078295b6ff6b7fc82d",
            "21d7a202671c4b76a37d52a576875ebf",
            "da423bb37b06486197692b2c602e6a99",
            "1df9cb1e79124185a3dc625434b74cab",
            "9d9fe98335d1455c8dbcfe04d495e62c",
            "6497e09e52674a06a351ed48bbad55cb",
            "e4a4d26f437f4573ab7bea9c70a2c51c",
            "f767975281784e0286c8bd82cb3e7a58",
            "e34d87acef464556bd92bcb6851274d2",
            "0c87810b8ce04d829a1abe118818444e",
            "ea2a36e8fc9a4d21871c023938ee3cd7",
            "45c0cc5dff134f0d951f4336704c7a54",
            "b7326cf2a7c84012aac029602467daba",
            "3908e128ea7246b09d896b89704426cc",
            "68d57fdc34a346febbe11f368002b628",
            "584b0dfe3eba4bd0bf131a4b60d588fe",
            "e9ae07ce2c404ef6ad53b5d79764b017",
            "ad770f71d46a40de878614afe068a645",
            "e187983d30b24422a387ca33d59f3a82",
            "7278ec8f376649af8b9115c02db6519e",
            "d5809dc1afac4d13b271b252709c622a",
            "e51fc04128d94e6db78ee212bb98f72c"
          ]
        },
        "outputId": "82f5e2dd-b4d3-45a4-c35a-cd87f1f3bf22"
      },
      "source": [
        "#cargamos en dataset de entrenamiento y prueba, los numeros del 0-9\n",
        "dataset, metadata = tfds.load(\"fashion_mnist\", as_supervised=True,with_info=True)\n",
        "datos_entrenamiento, datos_prueba = dataset[\"train\"],dataset[\"test\"]"
      ],
      "execution_count": null,
      "outputs": [
        {
          "output_type": "stream",
          "name": "stdout",
          "text": [
            "\u001b[1mDownloading and preparing dataset fashion_mnist/3.0.1 (download: 29.45 MiB, generated: 36.42 MiB, total: 65.87 MiB) to /root/tensorflow_datasets/fashion_mnist/3.0.1...\u001b[0m\n"
          ]
        },
        {
          "output_type": "display_data",
          "data": {
            "application/vnd.jupyter.widget-view+json": {
              "model_id": "3b4243945bc94f73a5dc80419f6239ec",
              "version_minor": 0,
              "version_major": 2
            },
            "text/plain": [
              "Dl Completed...: 0 url [00:00, ? url/s]"
            ]
          },
          "metadata": {}
        },
        {
          "output_type": "display_data",
          "data": {
            "application/vnd.jupyter.widget-view+json": {
              "model_id": "ecd61d535df54e22910ac2a21b114550",
              "version_minor": 0,
              "version_major": 2
            },
            "text/plain": [
              "Dl Size...: 0 MiB [00:00, ? MiB/s]"
            ]
          },
          "metadata": {}
        },
        {
          "output_type": "display_data",
          "data": {
            "application/vnd.jupyter.widget-view+json": {
              "model_id": "f767975281784e0286c8bd82cb3e7a58",
              "version_minor": 0,
              "version_major": 2
            },
            "text/plain": [
              "Extraction completed...: 0 file [00:00, ? file/s]"
            ]
          },
          "metadata": {}
        },
        {
          "output_type": "stream",
          "name": "stdout",
          "text": [
            "\n",
            "\n",
            "\n"
          ]
        },
        {
          "output_type": "display_data",
          "data": {
            "application/vnd.jupyter.widget-view+json": {
              "model_id": "e187983d30b24422a387ca33d59f3a82",
              "version_minor": 0,
              "version_major": 2
            },
            "text/plain": [
              "0 examples [00:00, ? examples/s]"
            ]
          },
          "metadata": {}
        },
        {
          "output_type": "stream",
          "name": "stdout",
          "text": [
            "Shuffling and writing examples to /root/tensorflow_datasets/fashion_mnist/3.0.1.incompleteXKSBO0/fashion_mnist-train.tfrecord\n"
          ]
        },
        {
          "output_type": "display_data",
          "data": {
            "application/vnd.jupyter.widget-view+json": {
              "model_id": "7278ec8f376649af8b9115c02db6519e",
              "version_minor": 0,
              "version_major": 2
            },
            "text/plain": [
              "  0%|          | 0/60000 [00:00<?, ? examples/s]"
            ]
          },
          "metadata": {}
        },
        {
          "output_type": "display_data",
          "data": {
            "application/vnd.jupyter.widget-view+json": {
              "model_id": "d5809dc1afac4d13b271b252709c622a",
              "version_minor": 0,
              "version_major": 2
            },
            "text/plain": [
              "0 examples [00:00, ? examples/s]"
            ]
          },
          "metadata": {}
        },
        {
          "output_type": "stream",
          "name": "stdout",
          "text": [
            "Shuffling and writing examples to /root/tensorflow_datasets/fashion_mnist/3.0.1.incompleteXKSBO0/fashion_mnist-test.tfrecord\n"
          ]
        },
        {
          "output_type": "display_data",
          "data": {
            "application/vnd.jupyter.widget-view+json": {
              "model_id": "e51fc04128d94e6db78ee212bb98f72c",
              "version_minor": 0,
              "version_major": 2
            },
            "text/plain": [
              "  0%|          | 0/10000 [00:00<?, ? examples/s]"
            ]
          },
          "metadata": {}
        },
        {
          "output_type": "stream",
          "name": "stdout",
          "text": [
            "\u001b[1mDataset fashion_mnist downloaded and prepared to /root/tensorflow_datasets/fashion_mnist/3.0.1. Subsequent calls will reuse this data.\u001b[0m\n"
          ]
        }
      ]
    },
    {
      "cell_type": "code",
      "metadata": {
        "id": "QJXCG_yl_iTw"
      },
      "source": [
        "tags = [\"Camiseta / top\",\"Pantalón\",\"Pull-over\",\"Vestido\",\"Abrigo\",\"Sandalia\",\"Camisa\",\"Zapatilla\",\"Bolso\",\"Botín\"]"
      ],
      "execution_count": null,
      "outputs": []
    },
    {
      "cell_type": "code",
      "metadata": {
        "colab": {
          "base_uri": "https://localhost:8080/"
        },
        "id": "4rfvvzTs0sGX",
        "outputId": "0094b6a1-7043-40a9-c05e-1daedf4672d0"
      },
      "source": [
        "#pasamos en variables los datos de ejemplo de entrenamiento y prueba\n",
        "numeros_ejemplo_entrenamiento = metadata.splits[\"train\"].num_examples\n",
        "numeros_ejemplo_prueba = metadata.splits[\"test\"].num_examples\n",
        "print(numeros_ejemplo_entrenamiento, numeros_ejemplo_prueba)"
      ],
      "execution_count": null,
      "outputs": [
        {
          "output_type": "stream",
          "name": "stdout",
          "text": [
            "60000 10000\n"
          ]
        }
      ]
    },
    {
      "cell_type": "code",
      "metadata": {
        "id": "vafLR4F20xXl"
      },
      "source": [
        "#vamos a pasar los numeros(pixeles) que van de 0 - 255 de 0 - 1\n",
        "def normalizacion(images, labels):\n",
        "  images = tf.cast(images, tf.float32)\n",
        "  images /= 255\n",
        "  return images, labels"
      ],
      "execution_count": null,
      "outputs": []
    },
    {
      "cell_type": "code",
      "metadata": {
        "id": "r8Gm1Fjv0zrm"
      },
      "source": [
        "#Llamamos nuestra imagen normalizadora para convertir los numeros(pixeles) de 0 - 255 sean de 0 - 1\n",
        "datos_entrenamiento = datos_entrenamiento.map(normalizacion)\n",
        "datos_prueba = datos_prueba.map(normalizacion)"
      ],
      "execution_count": null,
      "outputs": []
    },
    {
      "cell_type": "code",
      "metadata": {
        "id": "3gS4iZ-107Xg"
      },
      "source": [
        "#crear la estructura de nuestra red neuronal\n",
        "modelo = tf.keras.Sequential([\n",
        "  tf.keras.layers.Flatten(input_shape= (28,28,1)), #28*28 neuronas una para cada pixel\n",
        "  tf.keras.layers.Dense(64, activation=tf.nn.relu),\n",
        "  tf.keras.layers.Dense(64, activation=tf.nn.relu),\n",
        "  tf.keras.layers.Dense(10, activation=tf.nn.softmax) #10 neuronas una para cada numero\n",
        "])"
      ],
      "execution_count": null,
      "outputs": []
    },
    {
      "cell_type": "code",
      "metadata": {
        "id": "Quwwz69k0_k6"
      },
      "source": [
        "#compilamos nuestro modelo\n",
        "modelo.compile(optimizer=\"adam\", loss=\"sparse_categorical_crossentropy\", metrics=[\"accuracy\"])"
      ],
      "execution_count": null,
      "outputs": []
    },
    {
      "cell_type": "code",
      "metadata": {
        "id": "vXdum7tZ1C3H"
      },
      "source": [
        "#realizaremos el entrenamiento por lote\n",
        "batchsize= 32\n",
        "datos_entrenamiento = datos_entrenamiento.repeat().shuffle(numeros_ejemplo_entrenamiento).batch(batchsize) #ordenado de forma aleatoria\n",
        "datos_prueba = datos_prueba.batch(batchsize)"
      ],
      "execution_count": null,
      "outputs": []
    },
    {
      "cell_type": "code",
      "metadata": {
        "colab": {
          "base_uri": "https://localhost:8080/"
        },
        "id": "-J4wQa9u1GQ6",
        "outputId": "1c7e45ba-37c8-4b5b-da56-436f3bb73517"
      },
      "source": [
        "#hacemos el entrenamiento de nuestra red neuronal con los datos de entrenamiento\n",
        "modelo.fit(datos_entrenamiento, epochs=5, steps_per_epoch=math.ceil(numeros_ejemplo_entrenamiento/batchsize)) "
      ],
      "execution_count": null,
      "outputs": [
        {
          "output_type": "stream",
          "name": "stdout",
          "text": [
            "Epoch 1/5\n",
            "1875/1875 [==============================] - 12s 3ms/step - loss: 0.5080 - accuracy: 0.8204\n",
            "Epoch 2/5\n",
            "1875/1875 [==============================] - 5s 3ms/step - loss: 0.3768 - accuracy: 0.8629\n",
            "Epoch 3/5\n",
            "1875/1875 [==============================] - 5s 3ms/step - loss: 0.3429 - accuracy: 0.8734\n",
            "Epoch 4/5\n",
            "1875/1875 [==============================] - 5s 3ms/step - loss: 0.3125 - accuracy: 0.8837\n",
            "Epoch 5/5\n",
            "1875/1875 [==============================] - 5s 3ms/step - loss: 0.2980 - accuracy: 0.8893\n"
          ]
        },
        {
          "output_type": "execute_result",
          "data": {
            "text/plain": [
              "<keras.callbacks.History at 0x7f5ef634a550>"
            ]
          },
          "metadata": {},
          "execution_count": 10
        }
      ]
    },
    {
      "cell_type": "code",
      "metadata": {
        "colab": {
          "base_uri": "https://localhost:8080/"
        },
        "id": "SARUFq9e1Ryf",
        "outputId": "985094e4-a925-4e9f-cd37-96db5c275065"
      },
      "source": [
        "#evaluar nuestro modelo con los datos de prueba\n",
        "test_loss, test_accuracy = modelo.evaluate(datos_prueba, steps=math.ceil(numeros_ejemplo_prueba/batchsize))\n",
        "print(test_loss*100, test_accuracy*100)"
      ],
      "execution_count": null,
      "outputs": [
        {
          "output_type": "stream",
          "name": "stdout",
          "text": [
            "313/313 [==============================] - 2s 5ms/step - loss: 0.3618 - accuracy: 0.8726\n",
            "36.17708683013916 87.26000189781189\n"
          ]
        }
      ]
    },
    {
      "cell_type": "code",
      "metadata": {
        "id": "clcIolMb1ViR"
      },
      "source": [
        "#graficar la salida para evaluar el aprendizaje\n",
        "def graficar_images(i,predictions_array, true_labels, images):\n",
        "  predictions_array, true_labels,img = predictions_array[i], true_labels[i], images[i]\n",
        "  plt.grid(False)\n",
        "  plt.xticks([])\n",
        "  plt.yticks([])\n",
        "  plt.imshow(img[...,0], cmap=plt.cm.binary)\n",
        "\n",
        "  predicted_label = np.argmax(predictions_array)\n",
        "  if predicted_label==true_labels:\n",
        "    color = \"purple\"\n",
        "  else:\n",
        "    color = \"red\"\n",
        "  plt.xlabel(\"Prediccion: {}\".format(tags[predicted_label]), color=color)"
      ],
      "execution_count": null,
      "outputs": []
    },
    {
      "cell_type": "code",
      "metadata": {
        "id": "NaVJEYk51ZdH"
      },
      "source": [
        "#convertir las imagenes de tensores en matrices con numpy\n",
        "for imagenes_prueba, etiquetas_prueba in datos_prueba.take(1):\n",
        "  imagenes_prueba = imagenes_prueba.numpy()\n",
        "  etiquetas_prueba = etiquetas_prueba.numpy()\n",
        "  predicciones = modelo.predict(imagenes_prueba)"
      ],
      "execution_count": null,
      "outputs": []
    },
    {
      "cell_type": "code",
      "metadata": {
        "id": "9v-j_t5l1b9f"
      },
      "source": [
        "#graficar las matrices en imganes con matplotlib para ver su acierto\n",
        "def graficar_valores_matrices(i, predictions_array, true_label):\n",
        "  predictions_array, true_label = predictions_array[i], true_label[i]\n",
        "  plt.grid(False)\n",
        "  plt.xticks([])\n",
        "  plt.yticks([])\n",
        "  thisplot = plt.bar(range(10), predictions_array, color = \"#888888\")\n",
        "  plt.ylim([0,1])\n",
        "  predicted_label = np.argmax(predictions_array)\n",
        "\n",
        "  thisplot[predicted_label].set_color(\"red\")\n",
        "  thisplot[true_label].set_color(\"purple\")"
      ],
      "execution_count": null,
      "outputs": []
    },
    {
      "cell_type": "code",
      "metadata": {
        "colab": {
          "base_uri": "https://localhost:8080/",
          "height": 589
        },
        "id": "JMtp-THz1e1k",
        "outputId": "e2a5a7ac-21b7-4085-c063-ef9b3312becc"
      },
      "source": [
        "#llamamos los metodos para la graficacion de las imagenes y la grafica de barras\n",
        "numfilas = 5\n",
        "numcols = 5\n",
        "numimages = numfilas*numcols\n",
        "\n",
        "plt.figure(figsize=(2*2*numcols, 2*numfilas))\n",
        "for i in range(numimages):\n",
        "  plt.subplot(numfilas, 2*numcols, 2*i+1)\n",
        "  graficar_images(i, predicciones, etiquetas_prueba, imagenes_prueba)\n",
        "  \n",
        "  plt.subplot(numfilas, 2*numcols, 2*i+2)\n",
        "  graficar_valores_matrices(i, predicciones, etiquetas_prueba)\n",
        "\n",
        "plt.show()"
      ],
      "execution_count": null,
      "outputs": [
        {
          "output_type": "display_data",
          "data": {
            "image/png": "[encoded data removed]",
            "text/plain": [
              "<Figure size 1440x720 with 50 Axes>"
            ]
          },
          "metadata": {}
        }
      ]
    },
    {
      "cell_type": "code",
      "metadata": {
        "colab": {
          "base_uri": "https://localhost:8080/"
        },
        "id": "QqOByA7jCc6A",
        "outputId": "937b6912-c5f2-42d6-af7f-eeb11f70acaa"
      },
      "source": [
        "import cv2\n",
        "#insertar imagen\n",
        "imglocal = cv2.imread('/content/Botin.png', 0)\n",
        "imglocal = tf.cast(imglocal, tf.float32)\n",
        "imglocal = imglocal / 255\n",
        "imglocal = np.expand_dims(imglocal, axis=0)\n",
        "\n",
        "print(imglocal.shape)"
      ],
      "execution_count": null,
      "outputs": [
        {
          "output_type": "stream",
          "name": "stdout",
          "text": [
            "(1, 28, 28)\n"
          ]
        }
      ]
    },
    {
      "cell_type": "code",
      "metadata": {
        "id": "VO-RE1nJDPA4"
      },
      "source": [
        "#Entrenar\n",
        "prdlocal = modelo.predict(imglocal, batch_size=1)\n",
        "tagLocalTest = np.argmax(prdlocal)"
      ],
      "execution_count": null,
      "outputs": []
    },
    {
      "cell_type": "code",
      "metadata": {
        "colab": {
          "base_uri": "https://localhost:8080/",
          "height": 239
        },
        "id": "Rjs-L-LQDQLo",
        "outputId": "adbf83ce-dd5d-4388-c36d-57e53c090b58"
      },
      "source": [
        "#Imprimir\n",
        "columns = 2\n",
        "rows = 2\n",
        "plt.figure(figsize=(2*2*columns, 2*rows))\n",
        "plt.subplot(rows, 2*columns, 2*0+1)\n",
        "plt.grid(False)\n",
        "plt.xticks([])\n",
        "plt.yticks([])\n",
        "plt.imshow(imglocal[0,...], cmap=plt.cm.binary)\n",
        "plt.xlabel(\"Prediccion: {}\".format(tags[tagLocalTest]), color='green')\n",
        "\n",
        "plt.subplot(rows, 2*columns, 2*0+2)\n",
        "plt.grid(False)\n",
        "plt.xticks([])\n",
        "plt.yticks([])\n",
        "thisplot = plt.bar(range(10), prdlocal[0], color = \"#888888\")\n",
        "plt.ylim([0,1])\n",
        "thisplot[tagLocalTest].set_color(\"red\")\n",
        "thisplot[tagLocalTest].set_color(\"purple\")\n",
        "plt.xticks(range(10), tags, rotation=90)\n",
        "\n",
        "plt.rcParams['font.size'] = 14\n",
        "plt.show()"
      ],
      "execution_count": null,
      "outputs": [
        {
          "output_type": "display_data",
          "data": {
            "image/png": "[encoded data removed]",
            "text/plain": [
              "<Figure size 576x288 with 2 Axes>"
            ]
          },
          "metadata": {
            "needs_background": "light"
          }
        }
      ]
    },
    {
      "cell_type": "code",
      "metadata": {
        "colab": {
          "base_uri": "https://localhost:8080/"
        },
        "id": "azt-2KqdDcNr",
        "outputId": "519c53a2-bcf7-4809-80a0-9613098736fd"
      },
      "source": [
        "import cv2\n",
        "#insertar imagen\n",
        "imglocal = cv2.imread('/content/Bolso.png', 0)\n",
        "imglocal = tf.cast(imglocal, tf.float32)\n",
        "imglocal = imglocal / 255\n",
        "imglocal = np.expand_dims(imglocal, axis=0)\n",
        "\n",
        "print(imglocal.shape)"
      ],
      "execution_count": null,
      "outputs": [
        {
          "output_type": "stream",
          "name": "stdout",
          "text": [
            "(1, 28, 28)\n"
          ]
        }
      ]
    },
    {
      "cell_type": "code",
      "metadata": {
        "id": "UzkC6nDbD7Da"
      },
      "source": [
        "#Entrenar\n",
        "prdlocal = modelo.predict(imglocal, batch_size=1)\n",
        "tagLocalTest = np.argmax(prdlocal)"
      ],
      "execution_count": null,
      "outputs": []
    },
    {
      "cell_type": "code",
      "metadata": {
        "colab": {
          "base_uri": "https://localhost:8080/",
          "height": 239
        },
        "id": "vD3n3RuSD_cy",
        "outputId": "ba16042c-3b15-48e6-d06c-8879c7b8f34e"
      },
      "source": [
        "#Imprimir\n",
        "columns = 2\n",
        "rows = 2\n",
        "plt.figure(figsize=(2*2*columns, 2*rows))\n",
        "plt.subplot(rows, 2*columns, 2*0+1)\n",
        "plt.grid(False)\n",
        "plt.xticks([])\n",
        "plt.yticks([])\n",
        "plt.imshow(imglocal[0,...], cmap=plt.cm.binary)\n",
        "plt.xlabel(\"Prediccion: {}\".format(tags[tagLocalTest]), color='green')\n",
        "\n",
        "plt.subplot(rows, 2*columns, 2*0+2)\n",
        "plt.grid(False)\n",
        "plt.xticks([])\n",
        "plt.yticks([])\n",
        "thisplot = plt.bar(range(10), prdlocal[0], color = \"#888888\")\n",
        "plt.ylim([0,1])\n",
        "thisplot[tagLocalTest].set_color(\"red\")\n",
        "thisplot[tagLocalTest].set_color(\"purple\")\n",
        "plt.xticks(range(10), tags, rotation=90)\n",
        "\n",
        "plt.rcParams['font.size'] = 14\n",
        "plt.show()"
      ],
      "execution_count": null,
      "outputs": [
        {
          "output_type": "display_data",
          "data": {
            "image/png": "[encoded data removed]",
            "text/plain": [
              "<Figure size 576x288 with 2 Axes>"
            ]
          },
          "metadata": {
            "needs_background": "light"
          }
        }
      ]
    },
    {
      "cell_type": "code",
      "metadata": {
        "colab": {
          "base_uri": "https://localhost:8080/"
        },
        "id": "aauyP3EuEiY_",
        "outputId": "ffd2e833-6371-4003-a29f-c5e407eede3f"
      },
      "source": [
        "import cv2\n",
        "#insertar imagen\n",
        "imglocal = cv2.imread('/content/Abrigo.png', 0)\n",
        "imglocal = tf.cast(imglocal, tf.float32)\n",
        "imglocal = imglocal / 255\n",
        "imglocal = np.expand_dims(imglocal, axis=0)\n",
        "\n",
        "print(imglocal.shape)"
      ],
      "execution_count": null,
      "outputs": [
        {
          "output_type": "stream",
          "name": "stdout",
          "text": [
            "(1, 28, 28)\n"
          ]
        }
      ]
    },
    {
      "cell_type": "code",
      "metadata": {
        "id": "hcNGoLSqEwP3"
      },
      "source": [
        "#Entrenar\n",
        "prdlocal = modelo.predict(imglocal, batch_size=1)\n",
        "tagLocalTest = np.argmax(prdlocal)"
      ],
      "execution_count": null,
      "outputs": []
    },
    {
      "cell_type": "code",
      "metadata": {
        "colab": {
          "base_uri": "https://localhost:8080/",
          "height": 239
        },
        "id": "fMKhZHi5E3LR",
        "outputId": "1ac27d3f-bcae-471c-ee24-d31910450635"
      },
      "source": [
        "#Imprimir\n",
        "columns = 2\n",
        "rows = 2\n",
        "plt.figure(figsize=(2*2*columns, 2*rows))\n",
        "plt.subplot(rows, 2*columns, 2*0+1)\n",
        "plt.grid(False)\n",
        "plt.xticks([])\n",
        "plt.yticks([])\n",
        "plt.imshow(imglocal[0,...], cmap=plt.cm.binary)\n",
        "plt.xlabel(\"Prediccion: {}\".format(tags[tagLocalTest]), color='green')\n",
        "\n",
        "plt.subplot(rows, 2*columns, 2*0+2)\n",
        "plt.grid(False)\n",
        "plt.xticks([])\n",
        "plt.yticks([])\n",
        "thisplot = plt.bar(range(10), prdlocal[0], color = \"#888888\")\n",
        "plt.ylim([0,1])\n",
        "thisplot[tagLocalTest].set_color(\"red\")\n",
        "thisplot[tagLocalTest].set_color(\"purple\")\n",
        "plt.xticks(range(10), tags, rotation=90)\n",
        "\n",
        "plt.rcParams['font.size'] = 14\n",
        "plt.show()"
      ],
      "execution_count": null,
      "outputs": [
        {
          "output_type": "display_data",
          "data": {
            "image/png": "[encoded data removed]",
            "text/plain": [
              "<Figure size 576x288 with 2 Axes>"
            ]
          },
          "metadata": {
            "needs_background": "light"
          }
        }
      ]
    },
    {
      "cell_type": "code",
      "metadata": {
        "colab": {
          "base_uri": "https://localhost:8080/"
        },
        "id": "-O2pIu3pFgP8",
        "outputId": "6e823222-afde-40ef-ac41-dd40377a3155"
      },
      "source": [
        "import cv2\n",
        "#insertar imagen\n",
        "imglocal = cv2.imread('/content/Vestido.png', 0)\n",
        "imglocal = tf.cast(imglocal, tf.float32)\n",
        "imglocal = imglocal / 255\n",
        "imglocal = np.expand_dims(imglocal, axis=0)\n",
        "\n",
        "print(imglocal.shape)"
      ],
      "execution_count": null,
      "outputs": [
        {
          "output_type": "stream",
          "name": "stdout",
          "text": [
            "(1, 28, 28)\n"
          ]
        }
      ]
    },
    {
      "cell_type": "code",
      "metadata": {
        "id": "nooALyKUF9D8"
      },
      "source": [
        "#Entrenar\n",
        "prdlocal = modelo.predict(imglocal, batch_size=1)\n",
        "tagLocalTest = np.argmax(prdlocal)"
      ],
      "execution_count": null,
      "outputs": []
    },
    {
      "cell_type": "code",
      "metadata": {
        "colab": {
          "base_uri": "https://localhost:8080/",
          "height": 239
        },
        "id": "R6_iFXASF_ev",
        "outputId": "81234981-35c4-44ef-80a0-93f56d2742b3"
      },
      "source": [
        "#Imprimir\n",
        "columns = 2\n",
        "rows = 2\n",
        "plt.figure(figsize=(2*2*columns, 2*rows))\n",
        "plt.subplot(rows, 2*columns, 2*0+1)\n",
        "plt.grid(False)\n",
        "plt.xticks([])\n",
        "plt.yticks([])\n",
        "plt.imshow(imglocal[0,...], cmap=plt.cm.binary)\n",
        "plt.xlabel(\"Prediccion: {}\".format(tags[tagLocalTest]), color='green')\n",
        "\n",
        "plt.subplot(rows, 2*columns, 2*0+2)\n",
        "plt.grid(False)\n",
        "plt.xticks([])\n",
        "plt.yticks([])\n",
        "thisplot = plt.bar(range(10), prdlocal[0], color = \"#888888\")\n",
        "plt.ylim([0,1])\n",
        "thisplot[tagLocalTest].set_color(\"red\")\n",
        "thisplot[tagLocalTest].set_color(\"purple\")\n",
        "plt.xticks(range(10), tags, rotation=90)\n",
        "\n",
        "plt.rcParams['font.size'] = 14\n",
        "plt.show()"
      ],
      "execution_count": null,
      "outputs": [
        {
          "output_type": "display_data",
          "data": {
            "image/png": "[encoded data removed]",
            "text/plain": [
              "<Figure size 576x288 with 2 Axes>"
            ]
          },
          "metadata": {
            "needs_background": "light"
          }
        }
      ]
    },
    {
      "cell_type": "code",
      "metadata": {
        "colab": {
          "base_uri": "https://localhost:8080/"
        },
        "id": "SY1LpKIhGCI5",
        "outputId": "70268a46-57b0-49d8-f12c-3e44824acd83"
      },
      "source": [
        "import cv2\n",
        "#insertar imagen\n",
        "imglocal = cv2.imread('/content/Pull-over.png', 0)\n",
        "imglocal = tf.cast(imglocal, tf.float32)\n",
        "imglocal = imglocal / 255\n",
        "imglocal = np.expand_dims(imglocal, axis=0)\n",
        "\n",
        "print(imglocal.shape)"
      ],
      "execution_count": null,
      "outputs": [
        {
          "output_type": "stream",
          "name": "stdout",
          "text": [
            "(1, 28, 28)\n"
          ]
        }
      ]
    },
    {
      "cell_type": "code",
      "metadata": {
        "id": "KzHqzJpsGcwV"
      },
      "source": [
        "#Entrenar\n",
        "prdlocal = modelo.predict(imglocal, batch_size=1)\n",
        "tagLocalTest = np.argmax(prdlocal)"
      ],
      "execution_count": null,
      "outputs": []
    },
    {
      "cell_type": "code",
      "metadata": {
        "colab": {
          "base_uri": "https://localhost:8080/",
          "height": 239
        },
        "id": "MhNV1HnZGgth",
        "outputId": "f611207d-343c-487d-ff17-bfda7c867993"
      },
      "source": [
        "#Imprimir\n",
        "columns = 2\n",
        "rows = 2\n",
        "plt.figure(figsize=(2*2*columns, 2*rows))\n",
        "plt.subplot(rows, 2*columns, 2*0+1)\n",
        "plt.grid(False)\n",
        "plt.xticks([])\n",
        "plt.yticks([])\n",
        "plt.imshow(imglocal[0,...], cmap=plt.cm.binary)\n",
        "plt.xlabel(\"Prediccion: {}\".format(tags[tagLocalTest]), color='green')\n",
        "\n",
        "plt.subplot(rows, 2*columns, 2*0+2)\n",
        "plt.grid(False)\n",
        "plt.xticks([])\n",
        "plt.yticks([])\n",
        "thisplot = plt.bar(range(10), prdlocal[0], color = \"#888888\")\n",
        "plt.ylim([0,1])\n",
        "thisplot[tagLocalTest].set_color(\"red\")\n",
        "thisplot[tagLocalTest].set_color(\"purple\")\n",
        "plt.xticks(range(10), tags, rotation=90)\n",
        "\n",
        "plt.rcParams['font.size'] = 14\n",
        "plt.show()"
      ],
      "execution_count": null,
      "outputs": [
        {
          "output_type": "display_data",
          "data": {
            "image/png": "[encoded data removed]",
            "text/plain": [
              "<Figure size 576x288 with 2 Axes>"
            ]
          },
          "metadata": {
            "needs_background": "light"
          }
        }
      ]
    },
    {
      "cell_type": "code",
      "metadata": {
        "colab": {
          "base_uri": "https://localhost:8080/"
        },
        "id": "z9MlwAC-HNZe",
        "outputId": "345728a5-ee19-4056-b8bd-e977bf9124c2"
      },
      "source": [
        "import cv2\n",
        "#insertar imagen\n",
        "imglocal = cv2.imread('/content/Sandalia.png', 0)\n",
        "imglocal = tf.cast(imglocal, tf.float32)\n",
        "imglocal = imglocal / 255\n",
        "imglocal = np.expand_dims(imglocal, axis=0)\n",
        "\n",
        "print(imglocal.shape)"
      ],
      "execution_count": null,
      "outputs": [
        {
          "output_type": "stream",
          "name": "stdout",
          "text": [
            "(1, 28, 28)\n"
          ]
        }
      ]
    },
    {
      "cell_type": "code",
      "metadata": {
        "id": "hzA9nM-tHeep"
      },
      "source": [
        "#Entrenar\n",
        "prdlocal = modelo.predict(imglocal, batch_size=1)\n",
        "tagLocalTest = np.argmax(prdlocal)"
      ],
      "execution_count": null,
      "outputs": []
    },
    {
      "cell_type": "code",
      "metadata": {
        "colab": {
          "base_uri": "https://localhost:8080/",
          "height": 239
        },
        "id": "vHIga8v9HgyF",
        "outputId": "a534fa9c-47d1-4e66-baa1-a9b69bf54472"
      },
      "source": [
        "#Imprimir\n",
        "columns = 2\n",
        "rows = 2\n",
        "plt.figure(figsize=(2*2*columns, 2*rows))\n",
        "plt.subplot(rows, 2*columns, 2*0+1)\n",
        "plt.grid(False)\n",
        "plt.xticks([])\n",
        "plt.yticks([])\n",
        "plt.imshow(imglocal[0,...], cmap=plt.cm.binary)\n",
        "plt.xlabel(\"Prediccion: {}\".format(tags[tagLocalTest]), color='green')\n",
        "\n",
        "plt.subplot(rows, 2*columns, 2*0+2)\n",
        "plt.grid(False)\n",
        "plt.xticks([])\n",
        "plt.yticks([])\n",
        "thisplot = plt.bar(range(10), prdlocal[0], color = \"#888888\")\n",
        "plt.ylim([0,1])\n",
        "thisplot[tagLocalTest].set_color(\"red\")\n",
        "thisplot[tagLocalTest].set_color(\"purple\")\n",
        "plt.xticks(range(10), tags, rotation=90)\n",
        "\n",
        "plt.rcParams['font.size'] = 14\n",
        "plt.show()"
      ],
      "execution_count": null,
      "outputs": [
        {
          "output_type": "display_data",
          "data": {
            "image/png": "[encoded data removed]",
            "text/plain": [
              "<Figure size 576x288 with 2 Axes>"
            ]
          },
          "metadata": {
            "needs_background": "light"
          }
        }
      ]
    },
    {
      "cell_type": "code",
      "metadata": {
        "colab": {
          "base_uri": "https://localhost:8080/"
        },
        "id": "Abfd1K8CHnaQ",
        "outputId": "7947510e-08f6-49fc-c848-df766827bd31"
      },
      "source": [
        "import cv2\n",
        "#insertar imagen\n",
        "imglocal = cv2.imread('/content/camisa.png', 0)\n",
        "imglocal = tf.cast(imglocal, tf.float32)\n",
        "imglocal = imglocal / 255\n",
        "imglocal = np.expand_dims(imglocal, axis=0)\n",
        "\n",
        "print(imglocal.shape)"
      ],
      "execution_count": null,
      "outputs": [
        {
          "output_type": "stream",
          "name": "stdout",
          "text": [
            "(1, 28, 28)\n"
          ]
        }
      ]
    },
    {
      "cell_type": "code",
      "metadata": {
        "id": "WakPc0W8HuZg"
      },
      "source": [
        "#Entrenar\n",
        "prdlocal = modelo.predict(imglocal, batch_size=1)\n",
        "tagLocalTest = np.argmax(prdlocal)"
      ],
      "execution_count": null,
      "outputs": []
    },
    {
      "cell_type": "code",
      "metadata": {
        "colab": {
          "base_uri": "https://localhost:8080/",
          "height": 239
        },
        "id": "KwILrqDWHxqX",
        "outputId": "e6acb303-53d9-4108-c4d0-fcf5503ea5f5"
      },
      "source": [
        "#Imprimir\n",
        "columns = 2\n",
        "rows = 2\n",
        "plt.figure(figsize=(2*2*columns, 2*rows))\n",
        "plt.subplot(rows, 2*columns, 2*0+1)\n",
        "plt.grid(False)\n",
        "plt.xticks([])\n",
        "plt.yticks([])\n",
        "plt.imshow(imglocal[0,...], cmap=plt.cm.binary)\n",
        "plt.xlabel(\"Prediccion: {}\".format(tags[tagLocalTest]), color='green')\n",
        "\n",
        "plt.subplot(rows, 2*columns, 2*0+2)\n",
        "plt.grid(False)\n",
        "plt.xticks([])\n",
        "plt.yticks([])\n",
        "thisplot = plt.bar(range(10), prdlocal[0], color = \"#888888\")\n",
        "plt.ylim([0,1])\n",
        "thisplot[tagLocalTest].set_color(\"red\")\n",
        "thisplot[tagLocalTest].set_color(\"purple\")\n",
        "plt.xticks(range(10), tags, rotation=90)\n",
        "\n",
        "plt.rcParams['font.size'] = 14\n",
        "plt.show()"
      ],
      "execution_count": null,
      "outputs": [
        {
          "output_type": "display_data",
          "data": {
            "image/png": "[encoded data removed]",
            "text/plain": [
              "<Figure size 576x288 with 2 Axes>"
            ]
          },
          "metadata": {
            "needs_background": "light"
          }
        }
      ]
    },
    {
      "cell_type": "code",
      "metadata": {
        "colab": {
          "base_uri": "https://localhost:8080/"
        },
        "id": "H8_DPu_4HoC3",
        "outputId": "4275be95-2660-43b8-aeb5-ad4e52f1cdca"
      },
      "source": [
        "import cv2\n",
        "#insertar imagen\n",
        "imglocal = cv2.imread('/content/Zapatilla de deporte.png', 0)\n",
        "imglocal = tf.cast(imglocal, tf.float32)\n",
        "imglocal = imglocal / 255\n",
        "imglocal = np.expand_dims(imglocal, axis=0)\n",
        "\n",
        "print(imglocal.shape)"
      ],
      "execution_count": null,
      "outputs": [
        {
          "output_type": "stream",
          "name": "stdout",
          "text": [
            "(1, 28, 28)\n"
          ]
        }
      ]
    },
    {
      "cell_type": "code",
      "metadata": {
        "id": "7XVO7H-BHvDN"
      },
      "source": [
        "#Entrenar\n",
        "prdlocal = modelo.predict(imglocal, batch_size=1)\n",
        "tagLocalTest = np.argmax(prdlocal)"
      ],
      "execution_count": null,
      "outputs": []
    },
    {
      "cell_type": "code",
      "metadata": {
        "colab": {
          "base_uri": "https://localhost:8080/",
          "height": 239
        },
        "id": "mfBG6d0hHygl",
        "outputId": "337cbd00-34fc-4d2f-e8fc-d167d6bde51a"
      },
      "source": [
        "#Imprimir\n",
        "columns = 2\n",
        "rows = 2\n",
        "plt.figure(figsize=(2*2*columns, 2*rows))\n",
        "plt.subplot(rows, 2*columns, 2*0+1)\n",
        "plt.grid(False)\n",
        "plt.xticks([])\n",
        "plt.yticks([])\n",
        "plt.imshow(imglocal[0,...], cmap=plt.cm.binary)\n",
        "plt.xlabel(\"Prediccion: {}\".format(tags[tagLocalTest]), color='green')\n",
        "\n",
        "plt.subplot(rows, 2*columns, 2*0+2)\n",
        "plt.grid(False)\n",
        "plt.xticks([])\n",
        "plt.yticks([])\n",
        "thisplot = plt.bar(range(10), prdlocal[0], color = \"#888888\")\n",
        "plt.ylim([0,1])\n",
        "thisplot[tagLocalTest].set_color(\"red\")\n",
        "thisplot[tagLocalTest].set_color(\"purple\")\n",
        "plt.xticks(range(10), tags, rotation=90)\n",
        "\n",
        "plt.rcParams['font.size'] = 14\n",
        "plt.show()"
      ],
      "execution_count": null,
      "outputs": [
        {
          "output_type": "display_data",
          "data": {
            "image/png": "[encoded data removed]",
            "text/plain": [
              "<Figure size 576x288 with 2 Axes>"
            ]
          },
          "metadata": {
            "needs_background": "light"
          }
        }
      ]
    },
    {
      "cell_type": "code",
      "metadata": {
        "colab": {
          "base_uri": "https://localhost:8080/"
        },
        "id": "e4NBLf7yHrRD",
        "outputId": "1708fc95-080b-492b-d1da-332486c317f5"
      },
      "source": [
        "import cv2\n",
        "#insertar imagen\n",
        "imglocal = cv2.imread('/content/top.png', 0)\n",
        "imglocal = tf.cast(imglocal, tf.float32)\n",
        "imglocal = imglocal / 255\n",
        "imglocal = np.expand_dims(imglocal, axis=0)\n",
        "\n",
        "print(imglocal.shape)"
      ],
      "execution_count": null,
      "outputs": [
        {
          "output_type": "stream",
          "name": "stdout",
          "text": [
            "(1, 28, 28)\n"
          ]
        }
      ]
    },
    {
      "cell_type": "code",
      "metadata": {
        "id": "JvfegfIiHvq1"
      },
      "source": [
        "#Entrenar\n",
        "prdlocal = modelo.predict(imglocal, batch_size=1)\n",
        "tagLocalTest = np.argmax(prdlocal)"
      ],
      "execution_count": null,
      "outputs": []
    },
    {
      "cell_type": "code",
      "metadata": {
        "colab": {
          "base_uri": "https://localhost:8080/",
          "height": 239
        },
        "id": "DUcKXpK1HzsL",
        "outputId": "a2c16be7-c4ba-472e-b656-44c8c1d76d3a"
      },
      "source": [
        "#Imprimir\n",
        "columns = 2\n",
        "rows = 2\n",
        "plt.figure(figsize=(2*2*columns, 2*rows))\n",
        "plt.subplot(rows, 2*columns, 2*0+1)\n",
        "plt.grid(False)\n",
        "plt.xticks([])\n",
        "plt.yticks([])\n",
        "plt.imshow(imglocal[0,...], cmap=plt.cm.binary)\n",
        "plt.xlabel(\"Prediccion: {}\".format(tags[tagLocalTest]), color='green')\n",
        "\n",
        "plt.subplot(rows, 2*columns, 2*0+2)\n",
        "plt.grid(False)\n",
        "plt.xticks([])\n",
        "plt.yticks([])\n",
        "thisplot = plt.bar(range(10), prdlocal[0], color = \"#888888\")\n",
        "plt.ylim([0,1])\n",
        "thisplot[tagLocalTest].set_color(\"red\")\n",
        "thisplot[tagLocalTest].set_color(\"purple\")\n",
        "plt.xticks(range(10), tags, rotation=90)\n",
        "\n",
        "plt.rcParams['font.size'] = 14\n",
        "plt.show()"
      ],
      "execution_count": null,
      "outputs": [
        {
          "output_type": "display_data",
          "data": {
            "image/png": "[encoded data removed]",
            "text/plain": [
              "<Figure size 576x288 with 2 Axes>"
            ]
          },
          "metadata": {
            "needs_background": "light"
          }
        }
      ]
    },
    {
      "cell_type": "code",
      "metadata": {
        "colab": {
          "base_uri": "https://localhost:8080/"
        },
        "id": "jJ_R8sLuJDYv",
        "outputId": "363ed93e-7065-4d31-d2aa-e247b754ff1d"
      },
      "source": [
        "import cv2\n",
        "#insertar imagen\n",
        "imglocal = cv2.imread('/content/camisa 2.png', 0)\n",
        "imglocal = tf.cast(imglocal, tf.float32)\n",
        "imglocal = imglocal / 255\n",
        "imglocal = np.expand_dims(imglocal, axis=0)\n",
        "\n",
        "print(imglocal.shape)"
      ],
      "execution_count": null,
      "outputs": [
        {
          "output_type": "stream",
          "name": "stdout",
          "text": [
            "(1, 28, 28)\n"
          ]
        }
      ]
    },
    {
      "cell_type": "code",
      "metadata": {
        "id": "y351oTOFJF_k"
      },
      "source": [
        "#Entrenar\n",
        "prdlocal = modelo.predict(imglocal, batch_size=1)\n",
        "tagLocalTest = np.argmax(prdlocal)"
      ],
      "execution_count": null,
      "outputs": []
    },
    {
      "cell_type": "code",
      "metadata": {
        "colab": {
          "base_uri": "https://localhost:8080/",
          "height": 239
        },
        "id": "UxxfXYeJJHkw",
        "outputId": "00b9ef85-9bcc-41e5-fc77-28fd726037e9"
      },
      "source": [
        "#Imprimir\n",
        "columns = 2\n",
        "rows = 2\n",
        "plt.figure(figsize=(2*2*columns, 2*rows))\n",
        "plt.subplot(rows, 2*columns, 2*0+1)\n",
        "plt.grid(False)\n",
        "plt.xticks([])\n",
        "plt.yticks([])\n",
        "plt.imshow(imglocal[0,...], cmap=plt.cm.binary)\n",
        "plt.xlabel(\"Prediccion: {}\".format(tags[tagLocalTest]), color='green')\n",
        "\n",
        "plt.subplot(rows, 2*columns, 2*0+2)\n",
        "plt.grid(False)\n",
        "plt.xticks([])\n",
        "plt.yticks([])\n",
        "thisplot = plt.bar(range(10), prdlocal[0], color = \"#888888\")\n",
        "plt.ylim([0,1])\n",
        "thisplot[tagLocalTest].set_color(\"red\")\n",
        "thisplot[tagLocalTest].set_color(\"purple\")\n",
        "plt.xticks(range(10), tags, rotation=90)\n",
        "\n",
        "plt.rcParams['font.size'] = 14\n",
        "plt.show()"
      ],
      "execution_count": null,
      "outputs": [
        {
          "output_type": "display_data",
          "data": {
            "image/png": "[encoded data removed]",
            "text/plain": [
              "<Figure size 576x288 with 2 Axes>"
            ]
          },
          "metadata": {
            "needs_background": "light"
          }
        }
      ]
    },
    {
      "cell_type": "code",
      "metadata": {
        "id": "S3UunUQGA2e6"
      },
      "source": [
        "#Importar las librerias necesarias\n",
        "import tensorflow as tf\n",
        "import tensorflow_datasets as tfds\n",
        "import math\n",
        "import numpy as np\n",
        "import matplotlib.pyplot as plt\n",
        "\n",
        "from urllib import parse\n",
        "from http.server import HTTPServer, BaseHTTPRequestHandler"
      ],
      "execution_count": null,
      "outputs": []
    },
    {
      "cell_type": "code",
      "metadata": {
        "id": "x62l7NazEXCL",
        "colab": {
          "base_uri": "https://localhost:8080/",
          "height": 185,
          "referenced_widgets": [
            "15dc95d8f09443aa8ecda39beb09d9be",
            "43448aa5e39249b8ae73072da10457d9",
            "9fef79b5e15c44aba100e16ef89eda80",
            "84ae7fb057414d23b6b44811b20451e5",
            "061042792ec04a0dacce3f103b454d46",
            "57f2ff5bb5ef4bb4ae77ac0f7714d365",
            "a55892a349ea4e549988baa59578e206",
            "5159884c232d4c7cb1b964dc9dbbcd93",
            "11a9dab0d7784b80b1b0438488c3438c",
            "5eed1348c8a5460fb4c2c84269ae8c50",
            "f6096cdadaf34f57bab855e1c570ee34"
          ]
        },
        "outputId": "5421679f-55b4-4303-ac30-fbd32eca9f42"
      },
      "source": [
        "#Cargamos en dataset de entrenamiento y prueba, los numeros 0 - 9\n",
        "dataset, metadata = tfds.load(\"mnist\", as_supervised=True, with_info=True)\n",
        "datos_entrenamiento, datos_pruebas = dataset[\"train\"], dataset[\"test\"]"
      ],
      "execution_count": null,
      "outputs": [
        {
          "output_type": "stream",
          "name": "stdout",
          "text": [
            "\u001b[1mDownloading and preparing dataset mnist/3.0.1 (download: 11.06 MiB, generated: 21.00 MiB, total: 32.06 MiB) to /root/tensorflow_datasets/mnist/3.0.1...\u001b[0m\n"
          ]
        },
        {
          "output_type": "stream",
          "name": "stderr",
          "text": [
            "WARNING:absl:Dataset mnist is hosted on GCS. It will automatically be downloaded to your\n",
            "local data directory. If you'd instead prefer to read directly from our public\n",
            "GCS bucket (recommended if you're running on GCP), you can instead pass\n",
            "`try_gcs=True` to `tfds.load` or set `data_dir=gs://tfds-data/datasets`.\n",
            "\n"
          ]
        },
        {
          "output_type": "display_data",
          "data": {
            "application/vnd.jupyter.widget-view+json": {
              "model_id": "15dc95d8f09443aa8ecda39beb09d9be",
              "version_minor": 0,
              "version_major": 2
            },
            "text/plain": [
              "Dl Completed...:   0%|          | 0/4 [00:00<?, ? file/s]"
            ]
          },
          "metadata": {}
        },
        {
          "output_type": "stream",
          "name": "stdout",
          "text": [
            "\n",
            "\u001b[1mDataset mnist downloaded and prepared to /root/tensorflow_datasets/mnist/3.0.1. Subsequent calls will reuse this data.\u001b[0m\n"
          ]
        }
      ]
    },
    {
      "cell_type": "code",
      "metadata": {
        "id": "FRK7l6S0EebU"
      },
      "source": [
        "numeros_letras = [\"Cero\",\"Uno\",\"Dos\",\"Tres\",\"Cuatro\",\"Cinco\",\"Seis\",\"Siete\",\"Ocho\",\"Nueve\"]"
      ],
      "execution_count": null,
      "outputs": []
    },
    {
      "cell_type": "code",
      "metadata": {
        "colab": {
          "base_uri": "https://localhost:8080/"
        },
        "id": "ZZUHC0vFEmQq",
        "outputId": "cd6243a2-d13d-4087-9635-6f8b58ec36bf"
      },
      "source": [
        "#pasamos en variables los datos de ejemplo de entrenamiento y prueba\n",
        "numeros_ejemplo_entrenamiento = metadata.splits[\"train\"].num_examples\n",
        "numeros_ejemplo_prueba = metadata.splits[\"test\"].num_examples\n",
        "print(numeros_ejemplo_entrenamiento, numeros_ejemplo_prueba)"
      ],
      "execution_count": null,
      "outputs": [
        {
          "output_type": "stream",
          "name": "stdout",
          "text": [
            "60000 10000\n"
          ]
        }
      ]
    },
    {
      "cell_type": "code",
      "metadata": {
        "id": "rG_SfZJBEuFZ"
      },
      "source": [
        "#Vamos a pasar los numeros (pixeles) que van de 0 - 255 sean 0 - 1\n",
        "def normalizacion(images, labels):\n",
        "  images = tf.cast(images, tf.float32)\n",
        "  images /=255\n",
        "  return images, labels"
      ],
      "execution_count": null,
      "outputs": []
    },
    {
      "cell_type": "code",
      "metadata": {
        "id": "FJNKFSg1E4Qy"
      },
      "source": [
        "#Llamamos nuestra imagen normalizadora para convertir los numeros(pixeles) de 0 - 255 sean de 0 - 1\n",
        "datos_entrenamiento = datos_entrenamiento.map(normalizacion)\n",
        "datos_pruebas = datos_pruebas.map(normalizacion)"
      ],
      "execution_count": null,
      "outputs": []
    },
    {
      "cell_type": "code",
      "metadata": {
        "id": "s8TEz_MKFtDI"
      },
      "source": [
        "#Crear la estuctura de nuestra red neuronal\n",
        "modelo = tf.keras.Sequential([\n",
        "  tf.keras.layers.Flatten(input_shape=(28,28,1)), #28*28 = 784 neuronas una para cada pixel\n",
        "  tf.keras.layers.Dense(64, activation=tf.nn.relu),\n",
        "  tf.keras.layers.Dense(64, activation=tf.nn.relu),\n",
        "  tf.keras.layers.Dense(10, activation=tf.nn.softmax) #10 neuronas una para cada numero\n",
        "])"
      ],
      "execution_count": null,
      "outputs": []
    },
    {
      "cell_type": "code",
      "metadata": {
        "id": "3qw95pYfFzGQ"
      },
      "source": [
        "#compilamos nuestro modelo\n",
        "modelo.compile(optimizer=\"adam\", loss=\"sparse_categorical_crossentropy\", metrics=[\"accuracy\"])"
      ],
      "execution_count": null,
      "outputs": []
    },
    {
      "cell_type": "code",
      "metadata": {
        "id": "rGsVCVkLF58A"
      },
      "source": [
        "#realizacion el entremiento por lote\n",
        "batchsize = 32\n",
        "datos_entrenamiento = datos_entrenamiento.repeat().shuffle(numeros_ejemplo_entrenamiento).batch(batchsize) #ordenado de forma aleatoria\n",
        "datos_pruebas = datos_pruebas.repeat().shuffle(numeros_ejemplo_prueba).batch(batchsize)"
      ],
      "execution_count": null,
      "outputs": []
    },
    {
      "cell_type": "code",
      "metadata": {
        "colab": {
          "base_uri": "https://localhost:8080/"
        },
        "id": "bFlCA7-nHqXl",
        "outputId": "d7ecbc82-2605-4473-84bf-3b645d48613d"
      },
      "source": [
        "#Hacemos el entrenamiento de nuestra red neuronal con los datos de entrenamiento\n",
        "modelo.fit(datos_entrenamiento, epochs=5, \n",
        "           steps_per_epoch=math.ceil(numeros_ejemplo_entrenamiento/batchsize))"
      ],
      "execution_count": null,
      "outputs": [
        {
          "output_type": "stream",
          "name": "stdout",
          "text": [
            "Epoch 1/5\n",
            "1875/1875 [==============================] - 13s 3ms/step - loss: 0.2663 - accuracy: 0.9216\n",
            "Epoch 2/5\n",
            "1875/1875 [==============================] - 6s 3ms/step - loss: 0.1211 - accuracy: 0.9632\n",
            "Epoch 3/5\n",
            "1875/1875 [==============================] - 6s 3ms/step - loss: 0.0868 - accuracy: 0.9739\n",
            "Epoch 4/5\n",
            "1875/1875 [==============================] - 6s 3ms/step - loss: 0.0723 - accuracy: 0.9773\n",
            "Epoch 5/5\n",
            "1875/1875 [==============================] - 6s 3ms/step - loss: 0.0575 - accuracy: 0.9812\n"
          ]
        },
        {
          "output_type": "execute_result",
          "data": {
            "text/plain": [
              "<keras.callbacks.History at 0x7efe7185da10>"
            ]
          },
          "metadata": {},
          "execution_count": 10
        }
      ]
    },
    {
      "cell_type": "code",
      "metadata": {
        "colab": {
          "base_uri": "https://localhost:8080/"
        },
        "id": "i-lyYL7tHcUB",
        "outputId": "3164432a-c79c-4900-dafa-6974ff4ef232"
      },
      "source": [
        "#evaluar nuestro modelo con los datos de prueba\n",
        "test_loss, test_accuracy = modelo.evaluate(datos_pruebas, steps=math.ceil(numeros_ejemplo_prueba/batchsize))\n",
        "print(\"Resultado de las pruebas\",test_loss*100, test_accuracy*100)"
      ],
      "execution_count": null,
      "outputs": [
        {
          "output_type": "stream",
          "name": "stdout",
          "text": [
            "313/313 [==============================] - 2s 3ms/step - loss: 0.0743 - accuracy: 0.9763\n",
            "Resultado de las pruebas 7.4341461062431335 97.63378500938416\n"
          ]
        }
      ]
    },
    {
      "cell_type": "code",
      "metadata": {
        "id": "QhbEECYkmAtS"
      },
      "source": [
        "import pandas as pd\n",
        "import matplotlib.pyplot as plt"
      ],
      "execution_count": 1,
      "outputs": []
    },
    {
      "cell_type": "code",
      "metadata": {
        "colab": {
          "base_uri": "https://localhost:8080/",
          "height": 313
        },
        "id": "7nUGwOz9mL59",
        "outputId": "3b2cd317-2a95-44b5-e69a-2074bd0493ac"
      },
      "source": [
        "#1\n",
        "#Utilización de tarjetas de crédito: por sexo\n",
        "\n",
        "archivo = pd.read_csv(\"/content/tarjetas_por_sexo.csv\", sep=\",\", encoding=\"utf-8\")\n",
        "print(archivo)\n",
        "\n",
        "proceso =pd.crosstab(index=archivo[\"Gender\"],columns=\"frecuencia\")\n",
        "#print(proceso)\n",
        "\n",
        "frecuencia = archivo.loc[archivo.index>=0][\"frecuencia\"]\n",
        "#print(frecuencia)\n",
        "plt.pie(frecuencia, labels=frecuencia.index)\n",
        "plt.xlabel(\"Utilizacion de tarjetas por sexo\")\n",
        "plt.show()"
      ],
      "execution_count": 5,
      "outputs": [
        {
          "output_type": "stream",
          "name": "stdout",
          "text": [
            "  Gender  frecuencia\n",
            "0      F       13680\n",
            "1      M       12372\n"
          ]
        },
        {
          "output_type": "display_data",
          "data": {
            "image/png": "[encoded data removed]",
            "text/plain": [
              "<Figure size 432x288 with 1 Axes>"
            ]
          },
          "metadata": {}
        }
      ]
    },
    {
      "cell_type": "code",
      "metadata": {
        "id": "9VcUYhLD4va1"
      },
      "source": [
        "import pandas as pd\n",
        "import matplotlib.pyplot as plt"
      ],
      "execution_count": 6,
      "outputs": []
    },
    {
      "cell_type": "code",
      "metadata": {
        "colab": {
          "base_uri": "https://localhost:8080/",
          "height": 500
        },
        "id": "sZVYNeQ14yfM",
        "outputId": "d4565d71-47e1-4b85-fa9a-d6ca98add5c9"
      },
      "source": [
        "#2\n",
        "#Total en dólares utilizados diferenciando tarjetas de crédito por ciudad\n",
        "\n",
        "archivo = pd.read_csv(\"/content/total_dls_ciudad_tipo_tarjeta.csv\", sep=\",\", encoding=\"utf-8\")\n",
        "print(archivo)\n",
        "\n",
        "proceso =pd.crosstab(index=archivo[\"City\"],columns=\"sum\")\n",
        "#print(proceso)\n",
        "\n",
        "sum = archivo.loc[archivo.index][\"sum\"]\n",
        "#print(Frecuencia)\n",
        "plt.pie(sum, labels=sum.index)\n",
        "plt.xlabel(\"Ciudad tipo de tarjeta\")\n",
        "plt.show()"
      ],
      "execution_count": 12,
      "outputs": [
        {
          "output_type": "stream",
          "name": "stdout",
          "text": [
            "                  City  Card Type     sum\n",
            "0      Achalpur, India       Gold  679992\n",
            "1                  NaN   Platinum  178612\n",
            "2                  NaN  Signature  547005\n",
            "3                  NaN     Silver  201032\n",
            "4      Adilabad, India       Gold   49020\n",
            "...                ...        ...     ...\n",
            "3099               NaN  Signature  218424\n",
            "3100               NaN     Silver   98224\n",
            "3101   Zirakpur, India   Platinum  549663\n",
            "3102  Zunheboto, India  Signature   89271\n",
            "3103               NaN     Silver  377158\n",
            "\n",
            "[3104 rows x 3 columns]\n"
          ]
        },
        {
          "output_type": "display_data",
          "data": {
            "image/png": "[encoded data removed]",
            "text/plain": [
              "<Figure size 432x288 with 1 Axes>"
            ]
          },
          "metadata": {}
        }
      ]
    },
    {
      "cell_type": "code",
      "metadata": {
        "id": "FXOt7OE163i9"
      },
      "source": [
        "import pandas as pd\n",
        "import matplotlib.pyplot as plt"
      ],
      "execution_count": 14,
      "outputs": []
    },
    {
      "cell_type": "code",
      "metadata": {
        "colab": {
          "base_uri": "https://localhost:8080/",
          "height": 398
        },
        "id": "Gy-3JWQR6uvL",
        "outputId": "12f1f4ae-6fc4-4641-94d0-e27c00be80be"
      },
      "source": [
        "#3\n",
        "#Total utilizado por tipo de gasto \n",
        "\n",
        "totalDlsTipo = pd.read_csv(\"/content/total_dls_tipo_gasto.csv\", sep=\",\", encoding=\"utf-8\")\n",
        "\n",
        "\n",
        "procesar = pd.crosstab(index=totalDlsTipo[\"Exp Type\"],columns=\"Sum\")\n",
        "print(procesar)\n",
        "\n",
        "\n",
        "gasto = procesar.loc[procesar.index][\"Sum\"]\n",
        "plt.pie(gasto, labels=gasto.index)\n",
        "plt.xlabel(\"Total utilizado por tipo de gasto\")\n",
        "plt.show\n",
        "\n",
        "procesar.to_excel(\"total_dls_tipo_gasto.xlsx\")"
      ],
      "execution_count": 15,
      "outputs": [
        {
          "output_type": "stream",
          "name": "stdout",
          "text": [
            "col_0          Sum\n",
            "Exp Type          \n",
            "Bills            1\n",
            "Entertainment    1\n",
            "Food             1\n",
            "Fuel             1\n",
            "Grocery          1\n",
            "Travel           1\n"
          ]
        },
        {
          "output_type": "display_data",
          "data": {
            "image/png": "[encoded data removed]",
            "text/plain": [
              "<Figure size 432x288 with 1 Axes>"
            ]
          },
          "metadata": {}
        }
      ]
    },
    {
      "cell_type": "markdown",
      "metadata": {
        "id": "GJBs_flRovLc"
      },
      "source": [
        "## <strong>Introducción</strong>\n",
        "\n",
        "El documento que estás leyendo no es una página web estática, sino un entorno interactivo denominado <strong>notebook de Colab</strong>, que permite escribir y ejecutar código.\n",
        "\n",
        "Por ejemplo, esta es una <strong>celda de código</strong> con una secuencia de comandos Python corta que calcula un valor, lo almacena en una variable y devuelve el resultado:"
      ]
    },
    {
      "cell_type": "code",
      "metadata": {
        "colab": {
          "base_uri": "https://localhost:8080/",
          "height": 34
        },
        "id": "gJr_9dXGpJ05",
        "outputId": "9f556d03-ec67-4950-a485-cfdba9ddd14d"
      },
      "source": [
        "seconds_in_a_day = 24 * 60 * 60\n",
        "seconds_in_a_day"
      ],
      "execution_count": null,
      "outputs": [
        {
          "data": {
            "text/plain": [
              "86400"
            ]
          },
          "execution_count": 0,
          "metadata": {
            "tags": []
          },
          "output_type": "execute_result"
        }
      ]
    },
    {
      "cell_type": "markdown",
      "metadata": {
        "id": "2fhs6GZ4qFMx"
      },
      "source": [
        "A fin de ejecutar el código en la celda anterior, haz clic en él para seleccionarlo y luego presiona el botón de reproducción ubicado a la izquierda del código o usa la combinación de teclas \"Command/Ctrl + Intro\". Para editar el código, solo haz clic en la celda y comienza a editar.\n",
        "\n",
        "Las variables que defines en una celda pueden usarse en otras:"
      ]
    },
    {
      "cell_type": "code",
      "metadata": {
        "colab": {
          "base_uri": "https://localhost:8080/",
          "height": 34
        },
        "id": "-gE-Ez1qtyIA",
        "outputId": "94cb2224-0edf-457b-90b5-0ac3488d8a97"
      },
      "source": [
        "seconds_in_a_week = 7 * seconds_in_a_day\n",
        "seconds_in_a_week"
      ],
      "execution_count": null,
      "outputs": [
        {
          "data": {
            "text/plain": [
              "604800"
            ]
          },
          "execution_count": 0,
          "metadata": {
            "tags": []
          },
          "output_type": "execute_result"
        }
      ]
    },
    {
      "cell_type": "markdown",
      "metadata": {
        "id": "lSrWNr3MuFUS"
      },
      "source": [
        "Los notebooks de Colab te permiten combinar <strong>código ejecutable</strong> y <strong>texto enriquecido</strong> en un único documento, junto con <strong>imágenes</strong>, <strong>HTML</strong>, <strong>LaTeX</strong> y mucho más. Los notebooks que crees en Colab se almacenan en tu cuenta de Google Drive. Puedes compartir fácilmente los notebooks de Colab con amigos o compañeros de trabajo para que realicen comentarios o los editen. Si quieres obtener más información, consulta la <a href=\"/notebooks/basic_features_overview.ipynb\">Descripción general de Colab</a>. Para crear un nuevo notebook de Colab, ve al menú Archivo que aparece más arriba o usa este vínculo: <a href=\"http://colab.research.google.com#create=true\">crear un nuevo notebook de Colab</a>.\n",
        "\n",
        "Los notebooks de Colab son notebooks de Jupyter que aloja Colab. Para obtener más información sobre el proyecto Jupyter, visita <a href=\"https://www.jupyter.org\">jupyter.org</a>."
      ]
    },
    {
      "cell_type": "markdown",
      "metadata": {
        "id": "UdRyKR44dcNI"
      },
      "source": [
        "## Ciencia de datos\n",
        "\n",
        "Con Colab, puedes aprovechar por completo las bibliotecas más populares de Python para analizar y visualizar datos. La celda de código que se incluye a continuación usa <strong>NumPy</strong> para generar algunos datos aleatorios y <strong>matplotlib</strong> para visualizarlos. Para editar el código, haz clic en la celda y comienza a editar."
      ]
    },
    {
      "cell_type": "code",
      "metadata": {
        "colab": {
          "base_uri": "https://localhost:8080/",
          "height": 281
        },
        "id": "C4HZx7Gndbrh",
        "outputId": "46abc637-6abd-41b2-9bba-80a7ae992e06"
      },
      "source": [
        "import numpy as np\n",
        "from matplotlib import pyplot as plt\n",
        "\n",
        "ys = 200 + np.random.randn(100)\n",
        "x = [x for x in range(len(ys))]\n",
        "\n",
        "plt.plot(x, ys, '-')\n",
        "plt.fill_between(x, ys, 195, where=(ys > 195), facecolor='g', alpha=0.6)\n",
        "\n",
        "plt.title(\"Sample Visualization\")\n",
        "plt.show()"
      ],
      "execution_count": null,
      "outputs": [
        {
          "data": {
            "image/png": "[encoded data removed]",
            "text/plain": [
              "<Figure size 432x288 with 1 Axes>"
            ]
          },
          "metadata": {
            "tags": []
          },
          "output_type": "display_data"
        }
      ]
    },
    {
      "cell_type": "markdown",
      "metadata": {
        "id": "4_kCnsPUqS6o"
      },
      "source": [
        "Puedes importar datos propios a notebooks de Colab desde tu cuenta de Google Drive &#40;incluso desde hojas de cálculos&#41;, GitHub y muchas otras fuentes. Para obtener más información acerca de la importación de datos y cómo puede usarse Colab para fines relacionados con la ciencia de datos, consulta los vínculos de <a href=\"#working-with-data\">Cómo trabajar con datos</a>."
      ]
    },
    {
      "cell_type": "markdown",
      "metadata": {
        "id": "OwuxHmxllTwN"
      },
      "source": [
        "## Aprendizaje automático\n",
        "\n",
        "Colab te permite importar un conjunto de datos de imágenes, entrenar un clasificador de imágenes en él y evaluar el modelo con solo <a href=\"https://colab.research.google.com/github/tensorflow/docs/blob/master/site/en/tutorials/quickstart/beginner.ipynb\">unas pocas líneas de código</a>. Los notebooks de Colab ejecutan código en los servidores alojados en la nube de Google, lo que significa que puedes aprovechar al máximo el hardware de Google, incluidas las <a href=\"#using-accelerated-hardware\">GPU y TPU</a>, independientemente de la potencia de tu máquina. Lo único que necesitas es un navegador."
      ]
    },
    {
      "cell_type": "markdown",
      "metadata": {
        "id": "ufxBm1yRnruN"
      },
      "source": [
        "Entre los usos que se la da a Colab en la comunidad de aprendizaje automático, se encuentran los siguientes:\n",
        "- Introducción a TensorFlow\n",
        "- Desarrollo y entrenamiento de redes neuronales\n",
        "- Experimentación con TPU\n",
        "- Diseminación de investigación de IA\n",
        "- Creación de instructivos\n",
        "\n",
        "Para ver notebooks de Colab de ejemplo que muestran los usos del aprendizaje automático, consulta los <a href=\"#machine-learning-examples\">ejemplos</a> que se incluyen a continuación."
      ]
    },
    {
      "cell_type": "markdown",
      "metadata": {
        "id": "-Rh3-Vt9Nev9"
      },
      "source": [
        "## Más recursos\n",
        "\n",
        "### Cómo trabajar con notebooks en Colab\n",
        "- [Descripción general de Colaboratory](/notebooks/basic_features_overview.ipynb)\n",
        "- [Guía para usar Markdown](/notebooks/markdown_guide.ipynb)\n",
        "- [Cómo importar bibliotecas y luego instalar dependencias](/notebooks/snippets/importing_libraries.ipynb)\n",
        "- [Cómo guardar y cargar notebooks en GitHub](https://colab.research.google.com/github/googlecolab/colabtools/blob/master/notebooks/colab-github-demo.ipynb)\n",
        "- [Formularios interactivos](/notebooks/forms.ipynb)\n",
        "- [Widgets interactivos](/notebooks/widgets.ipynb)\n",
        "- <img src=\"/img/new.png\" height=\"20px\" align=\"left\" hspace=\"4px\" alt=\"New\"></img>\n",
        " [TensorFlow 2 en Colab](/notebooks/tensorflow_version.ipynb)\n",
        "\n",
        "<a name=\"working-with-data\"></a>\n",
        "### Cómo trabajar con datos\n",
        "- [Cómo cargar datos: Drive, Hojas de cálculo y Google Cloud Storage](/notebooks/io.ipynb) \n",
        "- [Gráficos: visualización de datos](/notebooks/charts.ipynb)\n",
        "- [Cómo comenzar a usar BigQuery](/notebooks/bigquery.ipynb)\n",
        "\n",
        "### Curso intensivo de aprendizaje automático\n",
        "Estos son algunos de los notebooks del curso de aprendizaje automático en línea de Google. Para obtener más información, consulta el <a href=\"https://developers.google.com/machine-learning/crash-course/\">sitio web del curso completo</a>.\n",
        "- [Introducción a Pandas](/notebooks/mlcc/intro_to_pandas.ipynb)\n",
        "- [Conceptos de TensorFlow](/notebooks/mlcc/tensorflow_programming_concepts.ipynb)\n",
        "\n",
        "<a name=\"using-accelerated-hardware\"></a>\n",
        "### Uso de aceleración de hardware\n",
        "- [TensorFlow con GPU](/notebooks/gpu.ipynb)\n",
        "- [TensorFlow con TPU](/notebooks/tpu.ipynb)"
      ]
    },
    {
      "cell_type": "markdown",
      "metadata": {
        "id": "P-H6Lw1vyNNd"
      },
      "source": [
        "<a name=\"machine-learning-examples\"></a>\n",
        "\n",
        "## Ejemplos de aprendizaje automático\n",
        "\n",
        "Para ver ejemplos de extremo a extremo de los análisis de aprendizaje automático interactivo que Colaboratory permite realizar, consulta estos instructivos con modelos de <a href=\"https://tfhub.dev\">TensorFlow Hub</a>.\n",
        "\n",
        "Algunos ejemplos destacados son los siguientes:\n",
        "\n",
        "- <a href=\"https://tensorflow.org/hub/tutorials/tf2_image_retraining\">Reentrenamiento de un clasificador de imágenes</a>: compila un modelo de Keras sobre un clasificador de imágenes previamente entrenado para distinguir flores.\n",
        "- <a href=\"https://tensorflow.org/hub/tutorials/tf2_text_classification\">Clasificación de texto</a>: clasifica opiniones sobre películas de IMDB como <em>positivas</em> o <em>negativas</em>.\n",
        "- <a href=\"https://tensorflow.org/hub/tutorials/tf2_arbitrary_image_stylization\">Transferencia de estilos</a>: usa el aprendizaje profundo para transferir el estilo de una imagen a otra.\n",
        "- <a href=\"https://tensorflow.org/hub/tutorials/retrieval_with_tf_hub_universal_encoder_qa\">Codificador universal de oraciones en varios idiomas para preguntas y respuestas</a>: usa un modelo de aprendizaje automático para responder preguntas del conjunto de datos SQuAD.\n",
        "- <a href=\"https://tensorflow.org/hub/tutorials/tweening_conv3d\">Interpolación de videos</a>: predice lo que sucedió en un video entre el primer y el último fotograma.\n"
      ]
    },
    {
      "cell_type": "markdown",
      "metadata": {
        "id": "LmTAw4HKFQe9"
      },
      "source": [
        "# Sección nueva"
      ]
    }
  ]
}